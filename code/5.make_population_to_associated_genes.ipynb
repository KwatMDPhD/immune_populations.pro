{
 "cells": [
  {
   "cell_type": "code",
   "execution_count": null,
   "id": "2f58128f",
   "metadata": {},
   "outputs": [],
   "source": [
    "include(\"_.jl\")"
   ]
  },
  {
   "cell_type": "code",
   "execution_count": null,
   "id": "dd04bd22",
   "metadata": {},
   "outputs": [],
   "source": [
    "gs = joinpath(PAO, \"gse107011\")"
   ]
  },
  {
   "cell_type": "code",
   "execution_count": null,
   "id": "428d483c",
   "metadata": {},
   "outputs": [],
   "source": [
    "bi_fe_sa = TableAccess.read(joinpath(gs, \"bi_fe_sa.tsv\"))\n",
    "\n",
    "size(bi_fe_sa)"
   ]
  },
  {
   "cell_type": "code",
   "execution_count": null,
   "id": "f3f6e767",
   "metadata": {},
   "outputs": [],
   "source": [
    "nu_ge_sa = TableAccess.read(joinpath(gs, \"nu_ge_sa.tsv\"))\n",
    "\n",
    "size(nu_ge_sa)"
   ]
  },
  {
   "cell_type": "code",
   "execution_count": null,
   "id": "16b570b7",
   "metadata": {},
   "outputs": [],
   "source": [
    "nu_ge_sa = nu_ge_sa[[any(ro .!= 0) for ro in eachrow(Matrix(nu_ge_sa[!, 2:end]))], :]\n",
    "\n",
    "size(nu_ge_sa)"
   ]
  },
  {
   "cell_type": "code",
   "execution_count": null,
   "id": "680139fd",
   "metadata": {},
   "outputs": [],
   "source": [
    "da = PandasAccess.convert(nu_ge_sa)\n",
    "\n",
    "typeof(da)"
   ]
  },
  {
   "cell_type": "code",
   "execution_count": null,
   "id": "08bd5ebf",
   "metadata": {},
   "outputs": [],
   "source": [
    "di = joinpath(gs, \"associate\")\n",
    "\n",
    "mkpath(di)"
   ]
  },
  {
   "cell_type": "code",
   "execution_count": null,
   "id": "df206c9f",
   "metadata": {},
   "outputs": [],
   "source": [
    "po_ge_ = Dict{String,Vector{String}}()\n",
    "\n",
    "for ro in eachrow(bi_fe_sa)\n",
    "\n",
    "    ta = PandasAccess.convert(ro)\n",
    "\n",
    "    po = ta.name\n",
    "\n",
    "    fi = PathExtension.clean(po)\n",
    "\n",
    "    ts = joinpath(di, string(fi, \".tsv\"))\n",
    "\n",
    "    println(ts)\n",
    "\n",
    "    if !isfile(ts) || SE[\"ov\"]\n",
    "\n",
    "        ts = kwat.information.get_ic\n",
    "\n",
    "    else\n",
    "\n",
    "        println(\"Reading .tsv\")\n",
    "\n",
    "        ts = PandasAccess.convert(TableAccess.read(ts))\n",
    "\n",
    "    end\n",
    "\n",
    "    ts = kwat.function_heat_map.make(\n",
    "        ta,\n",
    "        da,\n",
    "        ts,\n",
    "        n_jo = 1,\n",
    "        n_sa = 10,\n",
    "        n_sh = 10,\n",
    "        pl = false,\n",
    "        n_pl = 32,\n",
    "        tyt = \"binary\",\n",
    "        st = 4,\n",
    "        pr = joinpath(di, fi),\n",
    "    )\n",
    "\n",
    "    ts = PandasAccess.convert(ts)\n",
    "\n",
    "    po_ge_[po] = ts[0.48 .< ts[!, 2], 1]\n",
    "\n",
    "end"
   ]
  },
  {
   "cell_type": "code",
   "execution_count": null,
   "id": "65d241b8",
   "metadata": {},
   "outputs": [],
   "source": [
    "po_ge_ = sort(po_ge_)\n",
    "\n",
    "DictExtension.write(joinpath(di, \"population_to_genes.json\"), po_ge_)\n",
    "\n",
    "for (po, ge_) in po_ge_\n",
    "\n",
    "    println(length(ge_), \"\\t\", po)\n",
    "\n",
    "end"
   ]
  }
 ],
 "metadata": {
  "@webio": {
   "lastCommId": null,
   "lastKernelId": null
  },
  "kernelspec": {
   "display_name": "Julia 1.7.0",
   "language": "julia",
   "name": "julia-1.7"
  },
  "language_info": {
   "file_extension": ".jl",
   "mimetype": "application/julia",
   "name": "julia",
   "version": "1.7.0"
  }
 },
 "nbformat": 4,
 "nbformat_minor": 5
}
