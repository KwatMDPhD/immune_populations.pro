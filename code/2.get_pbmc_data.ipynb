{
 "cells": [
  {
   "cell_type": "markdown",
   "id": "853547e1-e7ce-4b9b-a702-51b35951215b",
   "metadata": {},
   "source": [
    "https://www.ncbi.nlm.nih.gov/geo/query/acc.cgi?acc=GSE106898"
   ]
  },
  {
   "cell_type": "code",
   "execution_count": null,
   "id": "575c7a26-1f70-467e-9f32-40d23e83b5ad",
   "metadata": {
    "execution": {
     "iopub.execute_input": "2021-11-28T06:24:10.387402Z",
     "iopub.status.busy": "2021-11-28T06:24:10.386674Z",
     "iopub.status.idle": "2021-11-28T06:24:10.402681Z",
     "shell.execute_reply": "2021-11-28T06:24:10.403070Z"
    },
    "tags": []
   },
   "outputs": [],
   "source": [
    "%load_ext autoreload\n",
    "%autoreload 2"
   ]
  },
  {
   "cell_type": "code",
   "execution_count": null,
   "id": "074c7a95-a792-443d-a18a-a465e1e9e16f",
   "metadata": {
    "execution": {
     "iopub.execute_input": "2021-11-28T06:24:10.406908Z",
     "iopub.status.busy": "2021-11-28T06:24:10.406325Z",
     "iopub.status.idle": "2021-11-28T06:24:16.282195Z",
     "shell.execute_reply": "2021-11-28T06:24:16.282579Z"
    }
   },
   "outputs": [],
   "source": [
    "from _ import *"
   ]
  },
  {
   "cell_type": "code",
   "execution_count": null,
   "id": "f6fb897b-7104-4843-830b-02d3e3fb30d0",
   "metadata": {
    "execution": {
     "iopub.execute_input": "2021-11-28T06:24:16.285570Z",
     "iopub.status.busy": "2021-11-28T06:24:16.285046Z",
     "iopub.status.idle": "2021-11-28T06:24:16.308670Z",
     "shell.execute_reply": "2021-11-28T06:24:16.309047Z"
    },
    "tags": []
   },
   "outputs": [],
   "source": [
    "gs = \"GSE106898\""
   ]
  },
  {
   "cell_type": "code",
   "execution_count": null,
   "id": "4b254d48-5d1c-430a-9e56-66a6dc9c5181",
   "metadata": {
    "execution": {
     "iopub.execute_input": "2021-11-28T06:24:16.313157Z",
     "iopub.status.busy": "2021-11-28T06:24:16.312602Z",
     "iopub.status.idle": "2021-11-28T06:24:16.339966Z",
     "shell.execute_reply": "2021-11-28T06:24:16.340431Z"
    },
    "tags": []
   },
   "outputs": [],
   "source": [
    "di, te = kwat.geo.path(PAO, gs)"
   ]
  },
  {
   "cell_type": "code",
   "execution_count": null,
   "id": "873297a7-bbd1-4fe7-a74a-6939ac4a5106",
   "metadata": {
    "execution": {
     "iopub.execute_input": "2021-11-28T06:24:16.343685Z",
     "iopub.status.busy": "2021-11-28T06:24:16.343102Z",
     "iopub.status.idle": "2021-11-28T06:24:55.382031Z",
     "shell.execute_reply": "2021-11-28T06:24:55.382605Z"
    },
    "scrolled": false,
    "tags": []
   },
   "outputs": [],
   "source": [
    "an_fe_sa_ = kwat.geo.get(gs, di, ov=SE[\"ov\"], pr=False)"
   ]
  },
  {
   "cell_type": "code",
   "execution_count": null,
   "id": "10cdabc7",
   "metadata": {
    "execution": {
     "iopub.execute_input": "2021-11-28T06:24:55.387056Z",
     "iopub.status.busy": "2021-11-28T06:24:55.386343Z",
     "iopub.status.idle": "2021-11-28T06:24:55.420392Z",
     "shell.execute_reply": "2021-11-28T06:24:55.420850Z"
    },
    "tags": []
   },
   "outputs": [],
   "source": [
    "bi_fe_sa = an_fe_sa_[2]\n",
    "\n",
    "kwat.dataframe.warn(bi_fe_sa)"
   ]
  },
  {
   "cell_type": "code",
   "execution_count": null,
   "id": "9f923a3a-15fc-4c84-8111-5bf1548c5fcd",
   "metadata": {
    "execution": {
     "iopub.execute_input": "2021-11-28T06:24:55.424160Z",
     "iopub.status.busy": "2021-11-28T06:24:55.423579Z",
     "iopub.status.idle": "2021-11-28T06:24:55.463520Z",
     "shell.execute_reply": "2021-11-28T06:24:55.463928Z"
    },
    "tags": []
   },
   "outputs": [],
   "source": [
    "bi_fe_sa.to_csv(path_or_buf=te.format(\"bi\", \"fe\"), sep=\"\\t\")\n",
    "\n",
    "bi_fe_sa"
   ]
  },
  {
   "cell_type": "code",
   "execution_count": null,
   "id": "68ec354c",
   "metadata": {
    "execution": {
     "iopub.execute_input": "2021-11-28T06:24:55.467127Z",
     "iopub.status.busy": "2021-11-28T06:24:55.466561Z",
     "iopub.status.idle": "2021-11-28T06:24:59.930753Z",
     "shell.execute_reply": "2021-11-28T06:24:59.931113Z"
    }
   },
   "outputs": [],
   "source": [
    "nu_ge_sa = an_fe_sa_[3]\n",
    "\n",
    "kwat.dataframe.warn(nu_ge_sa)"
   ]
  },
  {
   "cell_type": "code",
   "execution_count": null,
   "id": "3ea39686",
   "metadata": {
    "execution": {
     "iopub.execute_input": "2021-11-28T06:24:59.934548Z",
     "iopub.status.busy": "2021-11-28T06:24:59.934019Z",
     "iopub.status.idle": "2021-11-28T06:24:59.960569Z",
     "shell.execute_reply": "2021-11-28T06:24:59.960988Z"
    }
   },
   "outputs": [],
   "source": [
    "kwat.iterable.warn_mismatch(bi_fe_sa.columns.values, nu_ge_sa.columns.values)"
   ]
  },
  {
   "cell_type": "code",
   "execution_count": null,
   "id": "0baea297",
   "metadata": {
    "execution": {
     "iopub.execute_input": "2021-11-28T06:24:59.965194Z",
     "iopub.status.busy": "2021-11-28T06:24:59.964614Z",
     "iopub.status.idle": "2021-11-28T06:25:07.940162Z",
     "shell.execute_reply": "2021-11-28T06:25:07.940536Z"
    }
   },
   "outputs": [],
   "source": [
    "nu_ge_sa.index = kwat.gene.rename(\n",
    "    [en.split(sep=\".\")[0] for en in nu_ge_sa.index.values]\n",
    ")\n",
    "\n",
    "nu_ge_sa.index.name = \"Gene\"\n",
    "\n",
    "nu_ge_sa = kwat.feature_by_sample.collapse(nu_ge_sa.loc[nu_ge_sa.index.notna(), :])"
   ]
  },
  {
   "cell_type": "code",
   "execution_count": null,
   "id": "1bcc9cfe",
   "metadata": {
    "execution": {
     "iopub.execute_input": "2021-11-28T06:25:07.943965Z",
     "iopub.status.busy": "2021-11-28T06:25:07.943394Z",
     "iopub.status.idle": "2021-11-28T06:25:15.152437Z",
     "shell.execute_reply": "2021-11-28T06:25:15.152787Z"
    }
   },
   "outputs": [],
   "source": [
    "nu_ge_sa = kwat.feature_by_sample.process(nu_ge_sa, lo=2, sh=\"+1\")"
   ]
  },
  {
   "cell_type": "code",
   "execution_count": null,
   "id": "803ac864-fffa-46fe-b1fa-196c1c707a1e",
   "metadata": {
    "execution": {
     "iopub.execute_input": "2021-11-28T06:25:15.156487Z",
     "iopub.status.busy": "2021-11-28T06:25:15.155990Z",
     "iopub.status.idle": "2021-11-28T06:25:15.472437Z",
     "shell.execute_reply": "2021-11-28T06:25:15.472758Z"
    }
   },
   "outputs": [],
   "source": [
    "nu_ge_sa.to_csv(path_or_buf=te.format(\"nu\", \"ge\"), sep=\"\\t\")\n",
    "\n",
    "nu_ge_sa"
   ]
  }
 ],
 "metadata": {
  "@webio": {
   "lastCommId": null,
   "lastKernelId": null
  },
  "kernelspec": {
   "display_name": "Python 3 (ipykernel)",
   "language": "python",
   "name": "python3"
  },
  "language_info": {
   "codemirror_mode": {
    "name": "ipython",
    "version": 3
   },
   "file_extension": ".py",
   "mimetype": "text/x-python",
   "name": "python",
   "nbconvert_exporter": "python",
   "pygments_lexer": "ipython3",
   "version": "3.9.7"
  }
 },
 "nbformat": 4,
 "nbformat_minor": 5
}
