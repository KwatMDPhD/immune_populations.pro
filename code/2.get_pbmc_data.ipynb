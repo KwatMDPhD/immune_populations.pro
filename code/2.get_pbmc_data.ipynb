{
 "cells": [
  {
   "cell_type": "markdown",
   "id": "853547e1-e7ce-4b9b-a702-51b35951215b",
   "metadata": {},
   "source": [
    "https://www.ncbi.nlm.nih.gov/geo/query/acc.cgi?acc=GSE106898"
   ]
  },
  {
   "cell_type": "code",
   "execution_count": null,
   "id": "575c7a26-1f70-467e-9f32-40d23e83b5ad",
   "metadata": {
    "execution": {
     "iopub.execute_input": "2021-11-28T10:14:00.070722Z",
     "iopub.status.busy": "2021-11-28T10:14:00.070091Z",
     "iopub.status.idle": "2021-11-28T10:14:00.085118Z",
     "shell.execute_reply": "2021-11-28T10:14:00.085563Z"
    },
    "tags": []
   },
   "outputs": [],
   "source": [
    "%load_ext autoreload\n",
    "%autoreload 2"
   ]
  },
  {
   "cell_type": "code",
   "execution_count": null,
   "id": "074c7a95-a792-443d-a18a-a465e1e9e16f",
   "metadata": {
    "execution": {
     "iopub.execute_input": "2021-11-28T10:14:00.090704Z",
     "iopub.status.busy": "2021-11-28T10:14:00.090145Z",
     "iopub.status.idle": "2021-11-28T10:14:06.545050Z",
     "shell.execute_reply": "2021-11-28T10:14:06.545408Z"
    }
   },
   "outputs": [],
   "source": [
    "from _ import *"
   ]
  },
  {
   "cell_type": "code",
   "execution_count": null,
   "id": "f6fb897b-7104-4843-830b-02d3e3fb30d0",
   "metadata": {
    "execution": {
     "iopub.execute_input": "2021-11-28T10:14:06.549279Z",
     "iopub.status.busy": "2021-11-28T10:14:06.548747Z",
     "iopub.status.idle": "2021-11-28T10:14:06.574095Z",
     "shell.execute_reply": "2021-11-28T10:14:06.574457Z"
    },
    "tags": []
   },
   "outputs": [],
   "source": [
    "gs = \"GSE106898\""
   ]
  },
  {
   "cell_type": "code",
   "execution_count": null,
   "id": "4b254d48-5d1c-430a-9e56-66a6dc9c5181",
   "metadata": {
    "execution": {
     "iopub.execute_input": "2021-11-28T10:14:06.577920Z",
     "iopub.status.busy": "2021-11-28T10:14:06.577396Z",
     "iopub.status.idle": "2021-11-28T10:14:06.604221Z",
     "shell.execute_reply": "2021-11-28T10:14:06.604642Z"
    },
    "tags": []
   },
   "outputs": [],
   "source": [
    "di, te = kwat.geo.path(PAO, gs)"
   ]
  },
  {
   "cell_type": "code",
   "execution_count": null,
   "id": "873297a7-bbd1-4fe7-a74a-6939ac4a5106",
   "metadata": {
    "execution": {
     "iopub.execute_input": "2021-11-28T10:14:06.608101Z",
     "iopub.status.busy": "2021-11-28T10:14:06.607508Z",
     "iopub.status.idle": "2021-11-28T10:14:49.892213Z",
     "shell.execute_reply": "2021-11-28T10:14:49.892962Z"
    },
    "scrolled": false,
    "tags": []
   },
   "outputs": [],
   "source": [
    "an_fe_sa_ = kwat.geo.get(gs, di, ov=SE[\"ov\"], pr=False)"
   ]
  },
  {
   "cell_type": "code",
   "execution_count": null,
   "id": "10cdabc7",
   "metadata": {
    "execution": {
     "iopub.execute_input": "2021-11-28T10:14:49.897532Z",
     "iopub.status.busy": "2021-11-28T10:14:49.896826Z",
     "iopub.status.idle": "2021-11-28T10:14:49.932751Z",
     "shell.execute_reply": "2021-11-28T10:14:49.933362Z"
    },
    "tags": []
   },
   "outputs": [],
   "source": [
    "bi_fe_sa = an_fe_sa_[2]\n",
    "\n",
    "kwat.dataframe.warn(bi_fe_sa)"
   ]
  },
  {
   "cell_type": "code",
   "execution_count": null,
   "id": "9f923a3a-15fc-4c84-8111-5bf1548c5fcd",
   "metadata": {
    "execution": {
     "iopub.execute_input": "2021-11-28T10:14:49.936865Z",
     "iopub.status.busy": "2021-11-28T10:14:49.936243Z",
     "iopub.status.idle": "2021-11-28T10:14:49.979154Z",
     "shell.execute_reply": "2021-11-28T10:14:49.979605Z"
    },
    "tags": []
   },
   "outputs": [],
   "source": [
    "bi_fe_sa.to_csv(path_or_buf=te.format(\"bi\", \"fe\"), sep=\"\\t\")\n",
    "\n",
    "bi_fe_sa"
   ]
  },
  {
   "cell_type": "code",
   "execution_count": null,
   "id": "68ec354c",
   "metadata": {
    "execution": {
     "iopub.execute_input": "2021-11-28T10:14:49.982986Z",
     "iopub.status.busy": "2021-11-28T10:14:49.982375Z",
     "iopub.status.idle": "2021-11-28T10:14:55.309724Z",
     "shell.execute_reply": "2021-11-28T10:14:55.310256Z"
    }
   },
   "outputs": [],
   "source": [
    "nu_ge_sa = an_fe_sa_[3]\n",
    "\n",
    "kwat.dataframe.warn(nu_ge_sa)"
   ]
  },
  {
   "cell_type": "code",
   "execution_count": null,
   "id": "3ea39686",
   "metadata": {
    "execution": {
     "iopub.execute_input": "2021-11-28T10:14:55.314994Z",
     "iopub.status.busy": "2021-11-28T10:14:55.314235Z",
     "iopub.status.idle": "2021-11-28T10:14:55.348796Z",
     "shell.execute_reply": "2021-11-28T10:14:55.349367Z"
    }
   },
   "outputs": [],
   "source": [
    "kwat.iterable.warn_mismatch(bi_fe_sa.columns.values, nu_ge_sa.columns.values)"
   ]
  },
  {
   "cell_type": "code",
   "execution_count": null,
   "id": "0baea297",
   "metadata": {
    "execution": {
     "iopub.execute_input": "2021-11-28T10:14:55.354496Z",
     "iopub.status.busy": "2021-11-28T10:14:55.353719Z",
     "iopub.status.idle": "2021-11-28T10:15:03.904125Z",
     "shell.execute_reply": "2021-11-28T10:15:03.903703Z"
    }
   },
   "outputs": [],
   "source": [
    "nu_ge_sa.index = kwat.gene.rename(\n",
    "    [en.split(sep=\".\")[0] for en in nu_ge_sa.index.values]\n",
    ")\n",
    "\n",
    "nu_ge_sa.index.name = \"Gene\"\n",
    "\n",
    "nu_ge_sa = kwat.feature_by_sample.collapse(nu_ge_sa.loc[nu_ge_sa.index.notna(), :])"
   ]
  },
  {
   "cell_type": "code",
   "execution_count": null,
   "id": "1bcc9cfe",
   "metadata": {
    "execution": {
     "iopub.execute_input": "2021-11-28T10:15:03.907482Z",
     "iopub.status.busy": "2021-11-28T10:15:03.906897Z",
     "iopub.status.idle": "2021-11-28T10:15:12.472248Z",
     "shell.execute_reply": "2021-11-28T10:15:12.471772Z"
    }
   },
   "outputs": [],
   "source": [
    "nu_ge_sa = kwat.feature_by_sample.process(nu_ge_sa, lo=2, sh=\"+1\")"
   ]
  },
  {
   "cell_type": "code",
   "execution_count": null,
   "id": "803ac864-fffa-46fe-b1fa-196c1c707a1e",
   "metadata": {
    "execution": {
     "iopub.execute_input": "2021-11-28T10:15:12.476326Z",
     "iopub.status.busy": "2021-11-28T10:15:12.475672Z",
     "iopub.status.idle": "2021-11-28T10:15:12.842446Z",
     "shell.execute_reply": "2021-11-28T10:15:12.842848Z"
    }
   },
   "outputs": [],
   "source": [
    "nu_ge_sa.to_csv(path_or_buf=te.format(\"nu\", \"ge\"), sep=\"\\t\")\n",
    "\n",
    "nu_ge_sa"
   ]
  }
 ],
 "metadata": {
  "@webio": {
   "lastCommId": null,
   "lastKernelId": null
  },
  "kernelspec": {
   "display_name": "Python 3 (ipykernel)",
   "language": "python",
   "name": "python3"
  },
  "language_info": {
   "codemirror_mode": {
    "name": "ipython",
    "version": 3
   },
   "file_extension": ".py",
   "mimetype": "text/x-python",
   "name": "python",
   "nbconvert_exporter": "python",
   "pygments_lexer": "ipython3",
   "version": "3.9.9"
  }
 },
 "nbformat": 4,
 "nbformat_minor": 5
}
