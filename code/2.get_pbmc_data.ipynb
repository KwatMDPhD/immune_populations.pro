{
 "cells": [
  {
   "cell_type": "markdown",
   "id": "853547e1-e7ce-4b9b-a702-51b35951215b",
   "metadata": {},
   "source": [
    "https://www.ncbi.nlm.nih.gov/geo/query/acc.cgi?acc=GSE106898"
   ]
  },
  {
   "cell_type": "code",
   "execution_count": null,
   "id": "575c7a26-1f70-467e-9f32-40d23e83b5ad",
   "metadata": {
    "execution": {
     "iopub.execute_input": "2021-12-07T21:42:51.549582Z",
     "iopub.status.busy": "2021-12-07T21:42:51.548942Z",
     "iopub.status.idle": "2021-12-07T21:42:51.564326Z",
     "shell.execute_reply": "2021-12-07T21:42:51.564756Z"
    },
    "tags": []
   },
   "outputs": [],
   "source": [
    "%load_ext autoreload\n",
    "%autoreload 2"
   ]
  },
  {
   "cell_type": "code",
   "execution_count": null,
   "id": "074c7a95-a792-443d-a18a-a465e1e9e16f",
   "metadata": {
    "execution": {
     "iopub.execute_input": "2021-12-07T21:42:51.568299Z",
     "iopub.status.busy": "2021-12-07T21:42:51.567678Z",
     "iopub.status.idle": "2021-12-07T21:43:00.583365Z",
     "shell.execute_reply": "2021-12-07T21:43:00.583851Z"
    }
   },
   "outputs": [],
   "source": [
    "from _ import *"
   ]
  },
  {
   "cell_type": "code",
   "execution_count": null,
   "id": "f6fb897b-7104-4843-830b-02d3e3fb30d0",
   "metadata": {
    "execution": {
     "iopub.execute_input": "2021-12-07T21:43:00.587322Z",
     "iopub.status.busy": "2021-12-07T21:43:00.586746Z",
     "iopub.status.idle": "2021-12-07T21:43:00.611872Z",
     "shell.execute_reply": "2021-12-07T21:43:00.612292Z"
    },
    "tags": []
   },
   "outputs": [],
   "source": [
    "gs = \"GSE106898\""
   ]
  },
  {
   "cell_type": "code",
   "execution_count": null,
   "id": "4b254d48-5d1c-430a-9e56-66a6dc9c5181",
   "metadata": {
    "execution": {
     "iopub.execute_input": "2021-12-07T21:43:00.615397Z",
     "iopub.status.busy": "2021-12-07T21:43:00.614817Z",
     "iopub.status.idle": "2021-12-07T21:43:00.638860Z",
     "shell.execute_reply": "2021-12-07T21:43:00.639438Z"
    },
    "tags": []
   },
   "outputs": [],
   "source": [
    "di, te = kwat.geo.path(PAO, gs)"
   ]
  },
  {
   "cell_type": "code",
   "execution_count": null,
   "id": "873297a7-bbd1-4fe7-a74a-6939ac4a5106",
   "metadata": {
    "execution": {
     "iopub.execute_input": "2021-12-07T21:43:00.642831Z",
     "iopub.status.busy": "2021-12-07T21:43:00.642201Z",
     "iopub.status.idle": "2021-12-07T21:44:01.246024Z",
     "shell.execute_reply": "2021-12-07T21:44:01.246504Z"
    },
    "scrolled": false,
    "tags": []
   },
   "outputs": [],
   "source": [
    "an_fe_sa_ = kwat.geo.get(gs, di, ov=SE[\"ov\"], pr=False)"
   ]
  },
  {
   "cell_type": "code",
   "execution_count": null,
   "id": "10cdabc7",
   "metadata": {
    "execution": {
     "iopub.execute_input": "2021-12-07T21:44:01.250168Z",
     "iopub.status.busy": "2021-12-07T21:44:01.249573Z",
     "iopub.status.idle": "2021-12-07T21:44:01.282254Z",
     "shell.execute_reply": "2021-12-07T21:44:01.282672Z"
    },
    "tags": []
   },
   "outputs": [],
   "source": [
    "bi_fe_sa = an_fe_sa_[2]\n",
    "\n",
    "kwat.dataframe.warn(bi_fe_sa)"
   ]
  },
  {
   "cell_type": "code",
   "execution_count": null,
   "id": "9f923a3a-15fc-4c84-8111-5bf1548c5fcd",
   "metadata": {
    "execution": {
     "iopub.execute_input": "2021-12-07T21:44:01.285918Z",
     "iopub.status.busy": "2021-12-07T21:44:01.285336Z",
     "iopub.status.idle": "2021-12-07T21:44:01.325083Z",
     "shell.execute_reply": "2021-12-07T21:44:01.325578Z"
    },
    "tags": []
   },
   "outputs": [],
   "source": [
    "bi_fe_sa.to_csv(path_or_buf=te.format(\"bi\", \"fe\"), sep=\"\\t\")\n",
    "\n",
    "bi_fe_sa"
   ]
  },
  {
   "cell_type": "code",
   "execution_count": null,
   "id": "68ec354c",
   "metadata": {
    "execution": {
     "iopub.execute_input": "2021-12-07T21:44:01.328875Z",
     "iopub.status.busy": "2021-12-07T21:44:01.328295Z",
     "iopub.status.idle": "2021-12-07T21:44:06.733371Z",
     "shell.execute_reply": "2021-12-07T21:44:06.733911Z"
    }
   },
   "outputs": [],
   "source": [
    "nu_ge_sa = an_fe_sa_[3]\n",
    "\n",
    "kwat.dataframe.warn(nu_ge_sa)"
   ]
  },
  {
   "cell_type": "code",
   "execution_count": null,
   "id": "3ea39686",
   "metadata": {
    "execution": {
     "iopub.execute_input": "2021-12-07T21:44:06.737505Z",
     "iopub.status.busy": "2021-12-07T21:44:06.736919Z",
     "iopub.status.idle": "2021-12-07T21:44:06.762425Z",
     "shell.execute_reply": "2021-12-07T21:44:06.762839Z"
    }
   },
   "outputs": [],
   "source": [
    "kwat.iterable.warn_mismatch(bi_fe_sa.columns.values, nu_ge_sa.columns.values)"
   ]
  },
  {
   "cell_type": "code",
   "execution_count": null,
   "id": "0baea297",
   "metadata": {
    "execution": {
     "iopub.execute_input": "2021-12-07T21:44:06.766953Z",
     "iopub.status.busy": "2021-12-07T21:44:06.766265Z",
     "iopub.status.idle": "2021-12-07T21:44:24.042683Z",
     "shell.execute_reply": "2021-12-07T21:44:24.043108Z"
    }
   },
   "outputs": [],
   "source": [
    "nu_ge_sa.index = kwat.gene.rename(\n",
    "    [en.split(sep=\".\")[0] for en in nu_ge_sa.index.values]\n",
    ")\n",
    "\n",
    "nu_ge_sa.index.name = \"Gene\"\n",
    "\n",
    "nu_ge_sa = kwat.feature_by_sample.collapse(nu_ge_sa.loc[nu_ge_sa.index.notna(), :])"
   ]
  },
  {
   "cell_type": "code",
   "execution_count": null,
   "id": "1bcc9cfe",
   "metadata": {
    "execution": {
     "iopub.execute_input": "2021-12-07T21:44:24.046618Z",
     "iopub.status.busy": "2021-12-07T21:44:24.046040Z",
     "iopub.status.idle": "2021-12-07T21:44:33.032079Z",
     "shell.execute_reply": "2021-12-07T21:44:33.032515Z"
    }
   },
   "outputs": [],
   "source": [
    "nu_ge_sa = kwat.feature_by_sample.process(nu_ge_sa, lo=2, sh=\"+1\")"
   ]
  },
  {
   "cell_type": "code",
   "execution_count": null,
   "id": "803ac864-fffa-46fe-b1fa-196c1c707a1e",
   "metadata": {
    "execution": {
     "iopub.execute_input": "2021-12-07T21:44:33.036378Z",
     "iopub.status.busy": "2021-12-07T21:44:33.035797Z",
     "iopub.status.idle": "2021-12-07T21:44:33.423723Z",
     "shell.execute_reply": "2021-12-07T21:44:33.424133Z"
    }
   },
   "outputs": [],
   "source": [
    "nu_ge_sa.to_csv(path_or_buf=te.format(\"nu\", \"ge\"), sep=\"\\t\")\n",
    "\n",
    "nu_ge_sa"
   ]
  }
 ],
 "metadata": {
  "@webio": {
   "lastCommId": null,
   "lastKernelId": null
  },
  "kernelspec": {
   "display_name": "Python 3 (ipykernel)",
   "language": "python",
   "name": "python3"
  },
  "language_info": {
   "codemirror_mode": {
    "name": "ipython",
    "version": 3
   },
   "file_extension": ".py",
   "mimetype": "text/x-python",
   "name": "python",
   "nbconvert_exporter": "python",
   "pygments_lexer": "ipython3",
   "version": "3.9.9"
  }
 },
 "nbformat": 4,
 "nbformat_minor": 5
}
