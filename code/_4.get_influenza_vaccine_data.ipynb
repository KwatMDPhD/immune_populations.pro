{
 "cells": [
  {
   "cell_type": "markdown",
   "id": "a34963a4-dad7-4ebf-936f-a817c09f8a02",
   "metadata": {},
   "source": [
    "https://www.ncbi.nlm.nih.gov/geo/query/acc.cgi?acc=GSE107990"
   ]
  },
  {
   "cell_type": "code",
   "execution_count": null,
   "id": "76e702ba-d49e-4846-999a-552651a5f22e",
   "metadata": {
    "execution": {
     "iopub.execute_input": "2021-12-07T21:44:36.660769Z",
     "iopub.status.busy": "2021-12-07T21:44:36.660122Z",
     "iopub.status.idle": "2021-12-07T21:44:36.675290Z",
     "shell.execute_reply": "2021-12-07T21:44:36.675711Z"
    },
    "tags": []
   },
   "outputs": [],
   "source": [
    "%load_ext autoreload\n",
    "%autoreload 2"
   ]
  },
  {
   "cell_type": "code",
   "execution_count": null,
   "id": "074c7a95-a792-443d-a18a-a465e1e9e16f",
   "metadata": {
    "execution": {
     "iopub.execute_input": "2021-12-07T21:44:36.679058Z",
     "iopub.status.busy": "2021-12-07T21:44:36.678474Z",
     "iopub.status.idle": "2021-12-07T21:44:45.034878Z",
     "shell.execute_reply": "2021-12-07T21:44:45.035356Z"
    }
   },
   "outputs": [],
   "source": [
    "from _ import *"
   ]
  },
  {
   "cell_type": "code",
   "execution_count": null,
   "id": "aa298c9e-d761-498f-9607-c2eb26da4b71",
   "metadata": {
    "execution": {
     "iopub.execute_input": "2021-12-07T21:44:45.038875Z",
     "iopub.status.busy": "2021-12-07T21:44:45.038217Z",
     "iopub.status.idle": "2021-12-07T21:44:45.063537Z",
     "shell.execute_reply": "2021-12-07T21:44:45.064026Z"
    },
    "tags": []
   },
   "outputs": [],
   "source": [
    "gs = \"GSE107990\""
   ]
  },
  {
   "cell_type": "code",
   "execution_count": null,
   "id": "dd78e745-f489-4056-b174-09977ff29508",
   "metadata": {
    "execution": {
     "iopub.execute_input": "2021-12-07T21:44:45.067548Z",
     "iopub.status.busy": "2021-12-07T21:44:45.066905Z",
     "iopub.status.idle": "2021-12-07T21:44:45.092324Z",
     "shell.execute_reply": "2021-12-07T21:44:45.091808Z"
    },
    "tags": []
   },
   "outputs": [],
   "source": [
    "di, te = kwat.geo.path(PAO, gs)"
   ]
  },
  {
   "cell_type": "code",
   "execution_count": null,
   "id": "873297a7-bbd1-4fe7-a74a-6939ac4a5106",
   "metadata": {
    "execution": {
     "iopub.execute_input": "2021-12-07T21:44:45.095678Z",
     "iopub.status.busy": "2021-12-07T21:44:45.095103Z",
     "iopub.status.idle": "2021-12-07T21:49:07.816553Z",
     "shell.execute_reply": "2021-12-07T21:49:07.816986Z"
    },
    "tags": []
   },
   "outputs": [],
   "source": [
    "an_fe_sa_ = kwat.geo.get(gs, di, ov=SE[\"ov\"], pr=False)"
   ]
  },
  {
   "cell_type": "code",
   "execution_count": null,
   "id": "ba55f6a4",
   "metadata": {
    "execution": {
     "iopub.execute_input": "2021-12-07T21:49:07.820671Z",
     "iopub.status.busy": "2021-12-07T21:49:07.820066Z",
     "iopub.status.idle": "2021-12-07T21:49:07.945953Z",
     "shell.execute_reply": "2021-12-07T21:49:07.946452Z"
    },
    "tags": []
   },
   "outputs": [],
   "source": [
    "bi_fe_sa = an_fe_sa_[2]\n",
    "\n",
    "kwat.dataframe.warn(bi_fe_sa)"
   ]
  },
  {
   "cell_type": "code",
   "execution_count": null,
   "id": "ab669060-03b9-4ba7-92d6-8b2d17f0dd39",
   "metadata": {
    "execution": {
     "iopub.execute_input": "2021-12-07T21:49:07.949871Z",
     "iopub.status.busy": "2021-12-07T21:49:07.949292Z",
     "iopub.status.idle": "2021-12-07T21:49:08.020011Z",
     "shell.execute_reply": "2021-12-07T21:49:08.020601Z"
    },
    "tags": []
   },
   "outputs": [],
   "source": [
    "bi_fe_sa.to_csv(path_or_buf=te.format(\"bi\", \"fe\"), sep=\"\\t\")\n",
    "\n",
    "bi_fe_sa"
   ]
  },
  {
   "cell_type": "code",
   "execution_count": null,
   "id": "707b0b78",
   "metadata": {
    "execution": {
     "iopub.execute_input": "2021-12-07T21:49:08.023863Z",
     "iopub.status.busy": "2021-12-07T21:49:08.023266Z",
     "iopub.status.idle": "2021-12-07T21:49:20.146162Z",
     "shell.execute_reply": "2021-12-07T21:49:20.145681Z"
    }
   },
   "outputs": [],
   "source": [
    "nu_ge_sa = an_fe_sa_[3]\n",
    "\n",
    "kwat.dataframe.warn(nu_ge_sa)"
   ]
  },
  {
   "cell_type": "code",
   "execution_count": null,
   "id": "b48d565a",
   "metadata": {
    "execution": {
     "iopub.execute_input": "2021-12-07T21:49:20.149634Z",
     "iopub.status.busy": "2021-12-07T21:49:20.149001Z",
     "iopub.status.idle": "2021-12-07T21:49:20.174358Z",
     "shell.execute_reply": "2021-12-07T21:49:20.174770Z"
    }
   },
   "outputs": [],
   "source": [
    "kwat.iterable.warn_mismatch(bi_fe_sa.columns.values, nu_ge_sa.columns.values)"
   ]
  },
  {
   "cell_type": "code",
   "execution_count": null,
   "id": "de033907",
   "metadata": {
    "execution": {
     "iopub.execute_input": "2021-12-07T21:49:20.178535Z",
     "iopub.status.busy": "2021-12-07T21:49:20.177962Z",
     "iopub.status.idle": "2021-12-07T21:49:37.904203Z",
     "shell.execute_reply": "2021-12-07T21:49:37.904631Z"
    }
   },
   "outputs": [],
   "source": [
    "nu_ge_sa.index = kwat.gene.rename(\n",
    "    [en.split(sep=\".\")[0] for en in nu_ge_sa.index.values]\n",
    ")\n",
    "\n",
    "nu_ge_sa.index.name = \"Gene\"\n",
    "\n",
    "nu_ge_sa = kwat.feature_by_sample.collapse(nu_ge_sa.loc[nu_ge_sa.index.notna(), :])"
   ]
  },
  {
   "cell_type": "code",
   "execution_count": null,
   "id": "3d2be7b4",
   "metadata": {
    "execution": {
     "iopub.execute_input": "2021-12-07T21:49:37.908262Z",
     "iopub.status.busy": "2021-12-07T21:49:37.907670Z",
     "iopub.status.idle": "2021-12-07T21:50:45.643029Z",
     "shell.execute_reply": "2021-12-07T21:50:45.643467Z"
    }
   },
   "outputs": [],
   "source": [
    "nu_ge_sa = kwat.feature_by_sample.process(nu_ge_sa, dr=True, lo=2, sh=\"+1\")"
   ]
  },
  {
   "cell_type": "code",
   "execution_count": null,
   "id": "d575ee3f-04b7-4c34-94fe-6724d80db013",
   "metadata": {
    "execution": {
     "iopub.execute_input": "2021-12-07T21:50:45.647155Z",
     "iopub.status.busy": "2021-12-07T21:50:45.646583Z",
     "iopub.status.idle": "2021-12-07T21:51:02.104852Z",
     "shell.execute_reply": "2021-12-07T21:51:02.105275Z"
    }
   },
   "outputs": [],
   "source": [
    "nu_ge_sa.to_csv(path_or_buf=te.format(\"nu\", \"ge\"), sep=\"\\t\")\n",
    "\n",
    "nu_ge_sa"
   ]
  }
 ],
 "metadata": {
  "@webio": {
   "lastCommId": null,
   "lastKernelId": null
  },
  "kernelspec": {
   "display_name": "Python 3 (ipykernel)",
   "language": "python",
   "name": "python3"
  },
  "language_info": {
   "codemirror_mode": {
    "name": "ipython",
    "version": 3
   },
   "file_extension": ".py",
   "mimetype": "text/x-python",
   "name": "python",
   "nbconvert_exporter": "python",
   "pygments_lexer": "ipython3",
   "version": "3.9.9"
  }
 },
 "nbformat": 4,
 "nbformat_minor": 5
}
