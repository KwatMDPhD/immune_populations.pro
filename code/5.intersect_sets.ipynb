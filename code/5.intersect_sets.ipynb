{
 "cells": [
  {
   "cell_type": "code",
   "execution_count": null,
   "id": "f468ff1c-181d-4f4f-9189-b26dbbd3faa2",
   "metadata": {
    "execution": {
     "iopub.execute_input": "2021-09-28T06:34:58.810210Z",
     "iopub.status.busy": "2021-09-28T06:34:58.264984Z",
     "iopub.status.idle": "2021-09-28T06:35:13.893948Z",
     "shell.execute_reply": "2021-09-28T06:35:13.893424Z"
    }
   },
   "outputs": [],
   "source": [
    "include(\"_.jl\")"
   ]
  },
  {
   "cell_type": "code",
   "execution_count": null,
   "id": "7bfacbc9",
   "metadata": {},
   "outputs": [],
   "source": [
    "sei_ge_ = sort(\n",
    "    convert(\n",
    "        Dict{String,Vector{String}},\n",
    "        DictExtension.read(joinpath(PAO, \"population_to_genes.json\")),\n",
    "    ),\n",
    ")\n",
    "\n",
    ";"
   ]
  },
  {
   "cell_type": "code",
   "execution_count": null,
   "id": "84429106-6210-40fc-b479-205474ec4e6d",
   "metadata": {
    "execution": {
     "iopub.execute_input": "2021-09-28T06:35:14.185442Z",
     "iopub.status.busy": "2021-09-28T06:35:13.895283Z",
     "iopub.status.idle": "2021-09-28T06:35:16.404092Z",
     "shell.execute_reply": "2021-09-28T06:35:16.403571Z"
    }
   },
   "outputs": [],
   "source": [
    "seh_ge_ = sort(\n",
    "    convert(\n",
    "        Dict{String,Vector{String}},\n",
    "        DictExtension.read(joinpath(PAI, \"method_to_genes.json\")),\n",
    "    ),\n",
    ")\n",
    "\n",
    ";"
   ]
  },
  {
   "cell_type": "code",
   "execution_count": null,
   "id": "40d555e3",
   "metadata": {},
   "outputs": [],
   "source": [
    "hg_gr = Gene.map_to_column(coalesce.(Gene.read_hgnc(), \"?\"), [\"gene_group\", \"symbol\"])"
   ]
  },
  {
   "cell_type": "code",
   "execution_count": null,
   "id": "b3fcb1ba",
   "metadata": {},
   "outputs": [],
   "source": [
    "se_ge_ = Dict{String,Vector{String}}()"
   ]
  },
  {
   "cell_type": "code",
   "execution_count": null,
   "id": "bafc3f29",
   "metadata": {
    "scrolled": false
   },
   "outputs": [],
   "source": [
    "for (sei, gei_) in sei_ge_, (seh, geh_) in seh_ge_\n",
    "\n",
    "    gen_ = intersect(gei_, geh_)\n",
    "\n",
    "    n_in = length(gen_)\n",
    "\n",
    "    if 0 < n_in\n",
    "\n",
    "        se = string(sei, \" \u2229 \", seh)\n",
    "\n",
    "        se_ge_[se] = gen_\n",
    "\n",
    "        println(se, \" (\", n_in, \"):\")\n",
    "\n",
    "        for ge in gen_\n",
    "\n",
    "            print(\"- \", ge)\n",
    "\n",
    "            if haskey(hg_gr, ge)\n",
    "\n",
    "                println(\" (\", hg_gr[ge], \")\")\n",
    "\n",
    "            else\n",
    "\n",
    "                println()\n",
    "\n",
    "            end\n",
    "\n",
    "        end\n",
    "\n",
    "        println()\n",
    "\n",
    "    end\n",
    "\n",
    "end"
   ]
  },
  {
   "cell_type": "code",
   "execution_count": null,
   "id": "6e91ebfa",
   "metadata": {},
   "outputs": [],
   "source": [
    "DictExtension.write(joinpath(PAO, \"intersection_to_genes.json\"), se_ge_)"
   ]
  }
 ],
 "metadata": {
  "@webio": {
   "lastCommId": "072a1a2b1a5b499f805fe6c8978117bf",
   "lastKernelId": "194c655b-a3b8-48c7-b26f-020c36dfb2c8"
  },
  "kernelspec": {
   "display_name": "Julia 1.6.4",
   "language": "julia",
   "name": "julia-1.6"
  },
  "language_info": {
   "file_extension": ".jl",
   "mimetype": "application/julia",
   "name": "julia",
   "version": "1.6.4"
  }
 },
 "nbformat": 4,
 "nbformat_minor": 5
}
