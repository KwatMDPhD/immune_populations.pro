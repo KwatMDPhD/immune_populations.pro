{
 "cells": [
  {
   "cell_type": "markdown",
   "id": "a34963a4-dad7-4ebf-936f-a817c09f8a02",
   "metadata": {},
   "source": [
    "https://www.ncbi.nlm.nih.gov/geo/query/acc.cgi?acc=GSE107990"
   ]
  },
  {
   "cell_type": "code",
   "execution_count": null,
   "id": "76e702ba-d49e-4846-999a-552651a5f22e",
   "metadata": {
    "execution": {
     "iopub.execute_input": "2021-11-28T10:15:15.770105Z",
     "iopub.status.busy": "2021-11-28T10:15:15.769405Z",
     "iopub.status.idle": "2021-11-28T10:15:15.785463Z",
     "shell.execute_reply": "2021-11-28T10:15:15.785905Z"
    },
    "tags": []
   },
   "outputs": [],
   "source": [
    "%load_ext autoreload\n",
    "%autoreload 2"
   ]
  },
  {
   "cell_type": "code",
   "execution_count": null,
   "id": "074c7a95-a792-443d-a18a-a465e1e9e16f",
   "metadata": {
    "execution": {
     "iopub.execute_input": "2021-11-28T10:15:15.789655Z",
     "iopub.status.busy": "2021-11-28T10:15:15.789050Z",
     "iopub.status.idle": "2021-11-28T10:15:22.795184Z",
     "shell.execute_reply": "2021-11-28T10:15:22.794694Z"
    }
   },
   "outputs": [],
   "source": [
    "from _ import *"
   ]
  },
  {
   "cell_type": "code",
   "execution_count": null,
   "id": "aa298c9e-d761-498f-9607-c2eb26da4b71",
   "metadata": {
    "execution": {
     "iopub.execute_input": "2021-11-28T10:15:22.798687Z",
     "iopub.status.busy": "2021-11-28T10:15:22.798187Z",
     "iopub.status.idle": "2021-11-28T10:15:22.823404Z",
     "shell.execute_reply": "2021-11-28T10:15:22.823754Z"
    },
    "tags": []
   },
   "outputs": [],
   "source": [
    "gs = \"GSE107990\""
   ]
  },
  {
   "cell_type": "code",
   "execution_count": null,
   "id": "dd78e745-f489-4056-b174-09977ff29508",
   "metadata": {
    "execution": {
     "iopub.execute_input": "2021-11-28T10:15:22.827412Z",
     "iopub.status.busy": "2021-11-28T10:15:22.826859Z",
     "iopub.status.idle": "2021-11-28T10:15:22.852698Z",
     "shell.execute_reply": "2021-11-28T10:15:22.853202Z"
    },
    "tags": []
   },
   "outputs": [],
   "source": [
    "di, te = kwat.geo.path(PAO, gs)"
   ]
  },
  {
   "cell_type": "code",
   "execution_count": null,
   "id": "873297a7-bbd1-4fe7-a74a-6939ac4a5106",
   "metadata": {
    "execution": {
     "iopub.execute_input": "2021-11-28T10:15:22.856955Z",
     "iopub.status.busy": "2021-11-28T10:15:22.856428Z",
     "iopub.status.idle": "2021-11-28T10:19:28.088135Z",
     "shell.execute_reply": "2021-11-28T10:19:28.088742Z"
    },
    "tags": []
   },
   "outputs": [],
   "source": [
    "an_fe_sa_ = kwat.geo.get(gs, di, ov=SE[\"ov\"])"
   ]
  },
  {
   "cell_type": "code",
   "execution_count": null,
   "id": "ba55f6a4",
   "metadata": {
    "execution": {
     "iopub.execute_input": "2021-11-28T10:19:28.093274Z",
     "iopub.status.busy": "2021-11-28T10:19:28.092493Z",
     "iopub.status.idle": "2021-11-28T10:19:28.214334Z",
     "shell.execute_reply": "2021-11-28T10:19:28.214713Z"
    },
    "tags": []
   },
   "outputs": [],
   "source": [
    "bi_fe_sa = an_fe_sa_[2]\n",
    "\n",
    "kwat.dataframe.warn(bi_fe_sa)"
   ]
  },
  {
   "cell_type": "code",
   "execution_count": null,
   "id": "ab669060-03b9-4ba7-92d6-8b2d17f0dd39",
   "metadata": {
    "execution": {
     "iopub.execute_input": "2021-11-28T10:19:28.218314Z",
     "iopub.status.busy": "2021-11-28T10:19:28.217685Z",
     "iopub.status.idle": "2021-11-28T10:19:28.276755Z",
     "shell.execute_reply": "2021-11-28T10:19:28.277113Z"
    },
    "tags": []
   },
   "outputs": [],
   "source": [
    "bi_fe_sa.to_csv(path_or_buf=te.format(\"bi\", \"fe\"), sep=\"\\t\")\n",
    "\n",
    "bi_fe_sa"
   ]
  },
  {
   "cell_type": "code",
   "execution_count": null,
   "id": "707b0b78",
   "metadata": {
    "execution": {
     "iopub.execute_input": "2021-11-28T10:19:28.280395Z",
     "iopub.status.busy": "2021-11-28T10:19:28.279852Z",
     "iopub.status.idle": "2021-11-28T10:19:39.337198Z",
     "shell.execute_reply": "2021-11-28T10:19:39.337638Z"
    }
   },
   "outputs": [],
   "source": [
    "nu_ge_sa = an_fe_sa_[3]\n",
    "\n",
    "kwat.dataframe.warn(nu_ge_sa)"
   ]
  },
  {
   "cell_type": "code",
   "execution_count": null,
   "id": "b48d565a",
   "metadata": {
    "execution": {
     "iopub.execute_input": "2021-11-28T10:19:39.341326Z",
     "iopub.status.busy": "2021-11-28T10:19:39.340661Z",
     "iopub.status.idle": "2021-11-28T10:19:39.367593Z",
     "shell.execute_reply": "2021-11-28T10:19:39.368028Z"
    }
   },
   "outputs": [],
   "source": [
    "kwat.iterable.warn_mismatch(bi_fe_sa.columns.values, nu_ge_sa.columns.values)"
   ]
  },
  {
   "cell_type": "code",
   "execution_count": null,
   "id": "de033907",
   "metadata": {
    "execution": {
     "iopub.execute_input": "2021-11-28T10:19:39.372263Z",
     "iopub.status.busy": "2021-11-28T10:19:39.371663Z",
     "iopub.status.idle": "2021-11-28T10:19:48.718484Z",
     "shell.execute_reply": "2021-11-28T10:19:48.719194Z"
    }
   },
   "outputs": [],
   "source": [
    "nu_ge_sa.index = kwat.gene.rename(\n",
    "    [en.split(sep=\".\")[0] for en in nu_ge_sa.index.values]\n",
    ")\n",
    "\n",
    "nu_ge_sa.index.name = \"Gene\"\n",
    "\n",
    "nu_ge_sa = kwat.feature_by_sample.collapse(nu_ge_sa.loc[nu_ge_sa.index.notna(), :])"
   ]
  },
  {
   "cell_type": "code",
   "execution_count": null,
   "id": "3d2be7b4",
   "metadata": {
    "execution": {
     "iopub.execute_input": "2021-11-28T10:19:48.723292Z",
     "iopub.status.busy": "2021-11-28T10:19:48.722614Z",
     "iopub.status.idle": "2021-11-28T10:20:49.890225Z",
     "shell.execute_reply": "2021-11-28T10:20:49.890710Z"
    }
   },
   "outputs": [],
   "source": [
    "nu_ge_sa = kwat.feature_by_sample.process(nu_ge_sa, dr=True, lo=2, sh=\"+1\")"
   ]
  },
  {
   "cell_type": "code",
   "execution_count": null,
   "id": "d575ee3f-04b7-4c34-94fe-6724d80db013",
   "metadata": {
    "execution": {
     "iopub.execute_input": "2021-11-28T10:20:49.894433Z",
     "iopub.status.busy": "2021-11-28T10:20:49.893856Z",
     "iopub.status.idle": "2021-11-28T10:21:04.592730Z",
     "shell.execute_reply": "2021-11-28T10:21:04.592384Z"
    }
   },
   "outputs": [],
   "source": [
    "nu_ge_sa.to_csv(path_or_buf=te.format(\"nu\", \"ge\"), sep=\"\\t\")\n",
    "\n",
    "nu_ge_sa"
   ]
  }
 ],
 "metadata": {
  "@webio": {
   "lastCommId": null,
   "lastKernelId": null
  },
  "kernelspec": {
   "display_name": "Python 3 (ipykernel)",
   "language": "python",
   "name": "python3"
  },
  "language_info": {
   "codemirror_mode": {
    "name": "ipython",
    "version": 3
   },
   "file_extension": ".py",
   "mimetype": "text/x-python",
   "name": "python",
   "nbconvert_exporter": "python",
   "pygments_lexer": "ipython3",
   "version": "3.9.9"
  }
 },
 "nbformat": 4,
 "nbformat_minor": 5
}
