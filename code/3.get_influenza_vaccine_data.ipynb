{
 "cells": [
  {
   "cell_type": "markdown",
   "id": "a34963a4-dad7-4ebf-936f-a817c09f8a02",
   "metadata": {},
   "source": [
    "https://www.ncbi.nlm.nih.gov/geo/query/acc.cgi?acc=GSE107990"
   ]
  },
  {
   "cell_type": "code",
   "execution_count": null,
   "id": "76e702ba-d49e-4846-999a-552651a5f22e",
   "metadata": {
    "execution": {
     "iopub.execute_input": "2021-11-28T06:25:17.960068Z",
     "iopub.status.busy": "2021-11-28T06:25:17.959330Z",
     "iopub.status.idle": "2021-11-28T06:25:17.975133Z",
     "shell.execute_reply": "2021-11-28T06:25:17.975640Z"
    },
    "tags": []
   },
   "outputs": [],
   "source": [
    "%load_ext autoreload\n",
    "%autoreload 2"
   ]
  },
  {
   "cell_type": "code",
   "execution_count": null,
   "id": "074c7a95-a792-443d-a18a-a465e1e9e16f",
   "metadata": {
    "execution": {
     "iopub.execute_input": "2021-11-28T06:25:17.979282Z",
     "iopub.status.busy": "2021-11-28T06:25:17.978666Z",
     "iopub.status.idle": "2021-11-28T06:25:23.892931Z",
     "shell.execute_reply": "2021-11-28T06:25:23.893310Z"
    }
   },
   "outputs": [],
   "source": [
    "from _ import *"
   ]
  },
  {
   "cell_type": "code",
   "execution_count": null,
   "id": "aa298c9e-d761-498f-9607-c2eb26da4b71",
   "metadata": {
    "execution": {
     "iopub.execute_input": "2021-11-28T06:25:23.896626Z",
     "iopub.status.busy": "2021-11-28T06:25:23.896060Z",
     "iopub.status.idle": "2021-11-28T06:25:23.919884Z",
     "shell.execute_reply": "2021-11-28T06:25:23.919427Z"
    },
    "tags": []
   },
   "outputs": [],
   "source": [
    "gs = \"GSE107990\""
   ]
  },
  {
   "cell_type": "code",
   "execution_count": null,
   "id": "dd78e745-f489-4056-b174-09977ff29508",
   "metadata": {
    "execution": {
     "iopub.execute_input": "2021-11-28T06:25:23.923378Z",
     "iopub.status.busy": "2021-11-28T06:25:23.922778Z",
     "iopub.status.idle": "2021-11-28T06:25:23.949144Z",
     "shell.execute_reply": "2021-11-28T06:25:23.949565Z"
    },
    "tags": []
   },
   "outputs": [],
   "source": [
    "di, te = kwat.geo.path(PAO, gs)"
   ]
  },
  {
   "cell_type": "code",
   "execution_count": null,
   "id": "873297a7-bbd1-4fe7-a74a-6939ac4a5106",
   "metadata": {
    "execution": {
     "iopub.execute_input": "2021-11-28T06:25:23.952925Z",
     "iopub.status.busy": "2021-11-28T06:25:23.952335Z",
     "iopub.status.idle": "2021-11-28T06:29:03.551593Z",
     "shell.execute_reply": "2021-11-28T06:29:03.552465Z"
    },
    "tags": []
   },
   "outputs": [],
   "source": [
    "an_fe_sa_ = kwat.geo.get(gs, di, ov=SE[\"ov\"])"
   ]
  },
  {
   "cell_type": "code",
   "execution_count": null,
   "id": "ba55f6a4",
   "metadata": {
    "execution": {
     "iopub.execute_input": "2021-11-28T06:29:03.557346Z",
     "iopub.status.busy": "2021-11-28T06:29:03.556482Z",
     "iopub.status.idle": "2021-11-28T06:29:03.673588Z",
     "shell.execute_reply": "2021-11-28T06:29:03.673218Z"
    },
    "tags": []
   },
   "outputs": [],
   "source": [
    "bi_fe_sa = an_fe_sa_[2]\n",
    "\n",
    "kwat.dataframe.warn(bi_fe_sa)"
   ]
  },
  {
   "cell_type": "code",
   "execution_count": null,
   "id": "ab669060-03b9-4ba7-92d6-8b2d17f0dd39",
   "metadata": {
    "execution": {
     "iopub.execute_input": "2021-11-28T06:29:03.676824Z",
     "iopub.status.busy": "2021-11-28T06:29:03.676331Z",
     "iopub.status.idle": "2021-11-28T06:29:03.733174Z",
     "shell.execute_reply": "2021-11-28T06:29:03.733536Z"
    },
    "tags": []
   },
   "outputs": [],
   "source": [
    "bi_fe_sa.to_csv(path_or_buf=te.format(\"bi\", \"fe\"), sep=\"\\t\")\n",
    "\n",
    "bi_fe_sa"
   ]
  },
  {
   "cell_type": "code",
   "execution_count": null,
   "id": "707b0b78",
   "metadata": {
    "execution": {
     "iopub.execute_input": "2021-11-28T06:29:03.736573Z",
     "iopub.status.busy": "2021-11-28T06:29:03.736058Z",
     "iopub.status.idle": "2021-11-28T06:29:13.826355Z",
     "shell.execute_reply": "2021-11-28T06:29:13.826837Z"
    }
   },
   "outputs": [],
   "source": [
    "nu_ge_sa = an_fe_sa_[3]\n",
    "\n",
    "kwat.dataframe.warn(nu_ge_sa)"
   ]
  },
  {
   "cell_type": "code",
   "execution_count": null,
   "id": "b48d565a",
   "metadata": {
    "execution": {
     "iopub.execute_input": "2021-11-28T06:29:13.830520Z",
     "iopub.status.busy": "2021-11-28T06:29:13.829921Z",
     "iopub.status.idle": "2021-11-28T06:29:13.856835Z",
     "shell.execute_reply": "2021-11-28T06:29:13.857322Z"
    }
   },
   "outputs": [],
   "source": [
    "kwat.iterable.warn_mismatch(bi_fe_sa.columns.values, nu_ge_sa.columns.values)"
   ]
  },
  {
   "cell_type": "code",
   "execution_count": null,
   "id": "de033907",
   "metadata": {
    "execution": {
     "iopub.execute_input": "2021-11-28T06:29:13.861467Z",
     "iopub.status.busy": "2021-11-28T06:29:13.860884Z",
     "iopub.status.idle": "2021-11-28T06:29:22.874550Z",
     "shell.execute_reply": "2021-11-28T06:29:22.875064Z"
    }
   },
   "outputs": [],
   "source": [
    "nu_ge_sa.index = kwat.gene.rename(\n",
    "    [en.split(sep=\".\")[0] for en in nu_ge_sa.index.values]\n",
    ")\n",
    "\n",
    "nu_ge_sa.index.name = \"Gene\"\n",
    "\n",
    "nu_ge_sa = kwat.feature_by_sample.collapse(nu_ge_sa.loc[nu_ge_sa.index.notna(), :])"
   ]
  },
  {
   "cell_type": "code",
   "execution_count": null,
   "id": "3d2be7b4",
   "metadata": {
    "execution": {
     "iopub.execute_input": "2021-11-28T06:29:22.879092Z",
     "iopub.status.busy": "2021-11-28T06:29:22.878470Z",
     "iopub.status.idle": "2021-11-28T06:30:20.552062Z",
     "shell.execute_reply": "2021-11-28T06:30:20.552495Z"
    }
   },
   "outputs": [],
   "source": [
    "nu_ge_sa = kwat.feature_by_sample.process(nu_ge_sa, dr=True, lo=2, sh=\"+1\")"
   ]
  },
  {
   "cell_type": "code",
   "execution_count": null,
   "id": "d575ee3f-04b7-4c34-94fe-6724d80db013",
   "metadata": {
    "execution": {
     "iopub.execute_input": "2021-11-28T06:30:20.556381Z",
     "iopub.status.busy": "2021-11-28T06:30:20.555800Z",
     "iopub.status.idle": "2021-11-28T06:30:34.996909Z",
     "shell.execute_reply": "2021-11-28T06:30:34.997296Z"
    }
   },
   "outputs": [],
   "source": [
    "nu_ge_sa.to_csv(path_or_buf=te.format(\"nu\", \"ge\"), sep=\"\\t\")\n",
    "\n",
    "nu_ge_sa"
   ]
  }
 ],
 "metadata": {
  "@webio": {
   "lastCommId": null,
   "lastKernelId": null
  },
  "kernelspec": {
   "display_name": "Python 3 (ipykernel)",
   "language": "python",
   "name": "python3"
  },
  "language_info": {
   "codemirror_mode": {
    "name": "ipython",
    "version": 3
   },
   "file_extension": ".py",
   "mimetype": "text/x-python",
   "name": "python",
   "nbconvert_exporter": "python",
   "pygments_lexer": "ipython3",
   "version": "3.9.7"
  }
 },
 "nbformat": 4,
 "nbformat_minor": 5
}
