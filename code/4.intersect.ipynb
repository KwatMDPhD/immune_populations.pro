{
 "cells": [
  {
   "cell_type": "code",
   "execution_count": null,
   "id": "f468ff1c-181d-4f4f-9189-b26dbbd3faa2",
   "metadata": {
    "execution": {
     "iopub.execute_input": "2021-11-28T10:21:45.189709Z",
     "iopub.status.busy": "2021-11-28T10:21:44.644740Z",
     "iopub.status.idle": "2021-11-28T10:21:52.080187Z",
     "shell.execute_reply": "2021-11-28T10:21:52.079603Z"
    }
   },
   "outputs": [],
   "source": [
    "include(\"_.jl\")"
   ]
  },
  {
   "cell_type": "code",
   "execution_count": null,
   "id": "7bfacbc9",
   "metadata": {
    "execution": {
     "iopub.execute_input": "2021-11-28T10:21:52.317010Z",
     "iopub.status.busy": "2021-11-28T10:21:52.081364Z",
     "iopub.status.idle": "2021-11-28T10:21:53.765517Z",
     "shell.execute_reply": "2021-11-28T10:21:53.765119Z"
    }
   },
   "outputs": [],
   "source": [
    "po_im_ = sort(\n",
    "    convert(\n",
    "        Dict{String,Vector{String}},\n",
    "        DictExtension.read(joinpath(PAO, \"population_to_genes.json\")),\n",
    "    ),\n",
    ")\n",
    "\n",
    "im_ = vcat(values(po_im_)...)"
   ]
  },
  {
   "cell_type": "code",
   "execution_count": null,
   "id": "dc579207",
   "metadata": {},
   "outputs": [],
   "source": [
    "an_hu_me = TableAccess.read(joinpath(PAI, \"human_gene_by_method.tsv\"))\n",
    "\n",
    "hu_ = an_hu_me[!, \"Gene\"]"
   ]
  },
  {
   "cell_type": "code",
   "execution_count": null,
   "id": "84429106-6210-40fc-b479-205474ec4e6d",
   "metadata": {
    "execution": {
     "iopub.execute_input": "2021-11-28T10:21:53.767335Z",
     "iopub.status.busy": "2021-11-28T10:21:53.766830Z",
     "iopub.status.idle": "2021-11-28T10:21:53.789191Z",
     "shell.execute_reply": "2021-11-28T10:21:53.788510Z"
    }
   },
   "outputs": [],
   "source": [
    "co_ = intersect(im_, hu_)"
   ]
  },
  {
   "cell_type": "code",
   "execution_count": null,
   "id": "1ec85bcf",
   "metadata": {},
   "outputs": [],
   "source": [
    "po_ = [join([po for (po, im_) in po_im_ if co in im_], \"|\") for co in co_]"
   ]
  },
  {
   "cell_type": "code",
   "execution_count": null,
   "id": "9c4f2a93",
   "metadata": {
    "execution": {
     "iopub.execute_input": "2021-11-28T10:21:53.791067Z",
     "iopub.status.busy": "2021-11-28T10:21:53.790563Z",
     "iopub.status.idle": "2021-11-28T10:22:20.279495Z",
     "shell.execute_reply": "2021-11-28T10:22:20.278664Z"
    }
   },
   "outputs": [],
   "source": [
    "hg_gr = Gene.map_to_column(coalesce.(Gene.read_hgnc(), \"?\"), [\"gene_group\", \"symbol\"])\n",
    "\n",
    "gr_ = Vector{String}()\n",
    "\n",
    "for co in co_\n",
    "\n",
    "    if haskey(hg_gr, co)\n",
    "\n",
    "        gr = hg_gr[co]\n",
    "\n",
    "    else\n",
    "\n",
    "        println(co)\n",
    "\n",
    "        gr = \"??\"\n",
    "\n",
    "    end\n",
    "\n",
    "    push!(gr_, gr)\n",
    "\n",
    "end\n",
    "\n",
    "gr_"
   ]
  },
  {
   "cell_type": "code",
   "execution_count": null,
   "id": "fba34aba",
   "metadata": {},
   "outputs": [],
   "source": [
    "an_ge_ir = DataFrame(\"Gene\" => co_, \"Population\" => po_, \"Group\" => gr_)"
   ]
  },
  {
   "cell_type": "code",
   "execution_count": null,
   "id": "6e91ebfa",
   "metadata": {
    "execution": {
     "iopub.execute_input": "2021-11-28T10:22:21.308009Z",
     "iopub.status.busy": "2021-11-28T10:22:21.307318Z",
     "iopub.status.idle": "2021-11-28T10:22:21.466322Z",
     "shell.execute_reply": "2021-11-28T10:22:21.465864Z"
    }
   },
   "outputs": [],
   "source": [
    "TableAccess.write(joinpath(PAO, \"gene_by_information.tsv\"), an_ge_ir)"
   ]
  }
 ],
 "metadata": {
  "@webio": {
   "lastCommId": null,
   "lastKernelId": null
  },
  "kernelspec": {
   "display_name": "Julia 1.7.0",
   "language": "julia",
   "name": "julia-1.7"
  },
  "language_info": {
   "file_extension": ".jl",
   "mimetype": "application/julia",
   "name": "julia",
   "version": "1.7.0"
  }
 },
 "nbformat": 4,
 "nbformat_minor": 5
}
