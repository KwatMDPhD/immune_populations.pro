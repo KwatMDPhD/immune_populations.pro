{
 "cells": [
  {
   "cell_type": "code",
   "execution_count": null,
   "id": "f468ff1c-181d-4f4f-9189-b26dbbd3faa2",
   "metadata": {
    "execution": {
     "iopub.execute_input": "2021-11-28T10:21:45.189709Z",
     "iopub.status.busy": "2021-11-28T10:21:44.644740Z",
     "iopub.status.idle": "2021-11-28T10:21:52.080187Z",
     "shell.execute_reply": "2021-11-28T10:21:52.079603Z"
    }
   },
   "outputs": [],
   "source": [
    "include(\"_.jl\")"
   ]
  },
  {
   "cell_type": "code",
   "execution_count": null,
   "id": "7bfacbc9",
   "metadata": {
    "execution": {
     "iopub.execute_input": "2021-11-28T10:21:52.317010Z",
     "iopub.status.busy": "2021-11-28T10:21:52.081364Z",
     "iopub.status.idle": "2021-11-28T10:21:53.765517Z",
     "shell.execute_reply": "2021-11-28T10:21:53.765119Z"
    }
   },
   "outputs": [],
   "source": [
    "sei_ge_ = sort(\n",
    "    convert(\n",
    "        Dict{String,Vector{String}},\n",
    "        DictExtension.read(joinpath(PAO, \"population_to_genes.json\")),\n",
    "    ),\n",
    ")"
   ]
  },
  {
   "cell_type": "code",
   "execution_count": null,
   "id": "3daa75e1",
   "metadata": {
    "execution": {
     "iopub.execute_input": "2021-11-28T10:21:53.767335Z",
     "iopub.status.busy": "2021-11-28T10:21:53.766830Z",
     "iopub.status.idle": "2021-11-28T10:21:53.789191Z",
     "shell.execute_reply": "2021-11-28T10:21:53.788510Z"
    }
   },
   "outputs": [],
   "source": [
    "seh_ge_ = sort(\n",
    "    convert(\n",
    "        Dict{String,Vector{String}},\n",
    "        DictExtension.read(joinpath(PAI, \"method_to_human_genes.json\")),\n",
    "    ),\n",
    ")"
   ]
  },
  {
   "cell_type": "code",
   "execution_count": null,
   "id": "84429106-6210-40fc-b479-205474ec4e6d",
   "metadata": {
    "execution": {
     "iopub.execute_input": "2021-11-28T10:21:53.767335Z",
     "iopub.status.busy": "2021-11-28T10:21:53.766830Z",
     "iopub.status.idle": "2021-11-28T10:21:53.789191Z",
     "shell.execute_reply": "2021-11-28T10:21:53.788510Z"
    }
   },
   "outputs": [],
   "source": [
    "im_ = [values(sei_ge_)...;]\n",
    "\n",
    "hu_ = unique([values(seh_ge_)...;])\n",
    "\n",
    "co_ = intersect(im_, hu_)"
   ]
  },
  {
   "cell_type": "code",
   "execution_count": null,
   "id": "1ec85bcf",
   "metadata": {},
   "outputs": [],
   "source": [
    "po_ = [join([sei for (sei, ge_) in sei_ge_ if co in ge_], \"|\") for co in co_]"
   ]
  },
  {
   "cell_type": "code",
   "execution_count": null,
   "id": "40d555e3",
   "metadata": {
    "execution": {
     "iopub.execute_input": "2021-11-28T10:21:53.791067Z",
     "iopub.status.busy": "2021-11-28T10:21:53.790563Z",
     "iopub.status.idle": "2021-11-28T10:22:20.279495Z",
     "shell.execute_reply": "2021-11-28T10:22:20.278664Z"
    }
   },
   "outputs": [],
   "source": [
    "hg_gr = Gene.map_to_column(coalesce.(Gene.read_hgnc(), \"?\"), [\"gene_group\", \"symbol\"])\n",
    "\n",
    "gr_ = [hg_gr[co] for co in co_]"
   ]
  },
  {
   "cell_type": "code",
   "execution_count": null,
   "id": "b3fcb1ba",
   "metadata": {
    "execution": {
     "iopub.execute_input": "2021-11-28T10:22:20.281770Z",
     "iopub.status.busy": "2021-11-28T10:22:20.281076Z",
     "iopub.status.idle": "2021-11-28T10:22:21.096722Z",
     "shell.execute_reply": "2021-11-28T10:22:21.096319Z"
    }
   },
   "outputs": [],
   "source": [
    "se_ge_ = Dict{String,Vector{String}}()"
   ]
  },
  {
   "cell_type": "code",
   "execution_count": null,
   "id": "bafc3f29",
   "metadata": {
    "execution": {
     "iopub.execute_input": "2021-11-28T10:22:21.099236Z",
     "iopub.status.busy": "2021-11-28T10:22:21.098718Z",
     "iopub.status.idle": "2021-11-28T10:22:21.305969Z",
     "shell.execute_reply": "2021-11-28T10:22:21.305578Z"
    },
    "scrolled": false
   },
   "outputs": [],
   "source": [
    "for (sei, gei_) in sei_ge_, (seh, geh_) in seh_ge_\n",
    "\n",
    "    gen_ = intersect(gei_, geh_)\n",
    "\n",
    "    n_in = length(gen_)\n",
    "\n",
    "    if 0 < n_in\n",
    "\n",
    "        se = string(sei, \" ∩ \", seh)\n",
    "\n",
    "        se_ge_[se] = gen_\n",
    "\n",
    "        println(se, \" (\", n_in, \"):\")\n",
    "\n",
    "        for ge in gen_\n",
    "\n",
    "            print(\"- \", ge)\n",
    "\n",
    "            if haskey(hg_gr, ge)\n",
    "\n",
    "                println(\" (\", hg_gr[ge], \")\")\n",
    "\n",
    "            else\n",
    "\n",
    "                println()\n",
    "\n",
    "            end\n",
    "\n",
    "        end\n",
    "\n",
    "        println()\n",
    "\n",
    "    end\n",
    "\n",
    "end"
   ]
  },
  {
   "cell_type": "code",
   "execution_count": null,
   "id": "6e91ebfa",
   "metadata": {
    "execution": {
     "iopub.execute_input": "2021-11-28T10:22:21.308009Z",
     "iopub.status.busy": "2021-11-28T10:22:21.307318Z",
     "iopub.status.idle": "2021-11-28T10:22:21.466322Z",
     "shell.execute_reply": "2021-11-28T10:22:21.465864Z"
    }
   },
   "outputs": [],
   "source": [
    "DictExtension.write(joinpath(PAO, \"intersection_to_genes.json\"), sort(se_ge_))"
   ]
  }
 ],
 "metadata": {
  "@webio": {
   "lastCommId": null,
   "lastKernelId": null
  },
  "kernelspec": {
   "display_name": "Julia 1.7.0",
   "language": "julia",
   "name": "julia-1.7"
  },
  "language_info": {
   "file_extension": ".jl",
   "mimetype": "application/julia",
   "name": "julia",
   "version": "1.7.0"
  }
 },
 "nbformat": 4,
 "nbformat_minor": 5
}
