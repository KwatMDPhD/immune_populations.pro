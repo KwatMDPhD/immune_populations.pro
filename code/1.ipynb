{
 "cells": [
  {
   "cell_type": "code",
   "execution_count": null,
   "id": "9e348448-025a-44c7-ad83-8069c4d83b1e",
   "metadata": {},
   "outputs": [],
   "source": [
    "%load_ext autoreload\n",
    "%autoreload 2"
   ]
  },
  {
   "cell_type": "code",
   "execution_count": null,
   "id": "d22ad940-e532-4f8b-8e0c-e33a137e0bd5",
   "metadata": {},
   "outputs": [],
   "source": [
    "import os\n",
    "\n",
    "import pandas as pd\n",
    "\n",
    "import kraft"
   ]
  },
  {
   "cell_type": "code",
   "execution_count": null,
   "id": "ecbe7c23-2af5-4437-8695-fd3945576e33",
   "metadata": {},
   "outputs": [],
   "source": [
    "directory_path = os.path.expanduser(\"../data/\")"
   ]
  },
  {
   "cell_type": "code",
   "execution_count": null,
   "id": "c0417353-6725-42d6-8547-d38e7995c1e0",
   "metadata": {},
   "outputs": [],
   "source": [
    "_x_sample_ = kraft.geo.get_gse(\"GSE107011\", directory_path, overwrite=False)"
   ]
  },
  {
   "cell_type": "code",
   "execution_count": null,
   "id": "014bb1d6-10a3-4ab6-a174-4ed252d7780e",
   "metadata": {},
   "outputs": [],
   "source": [
    "gene_x_sample_path = kraft.internet.download(\n",
    "    \"https://ftp.ncbi.nlm.nih.gov/geo/series/GSE107nnn/GSE107011/suppl/GSE107011%5FProcessed%5Fdata%5FTPM%2Etxt%2Egz\",\n",
    "    directory_path,\n",
    ")"
   ]
  },
  {
   "cell_type": "code",
   "execution_count": null,
   "id": "3ea1a263-d19b-45ab-b0da-f2faaef78b87",
   "metadata": {},
   "outputs": [],
   "source": [
    "gene_x_sample = pd.read_csv(gene_x_sample_path, sep=\"\\t\", index_col=0)\n",
    "\n",
    "gene_x_sample"
   ]
  }
 ],
 "metadata": {
  "kernelspec": {
   "display_name": "Python 3",
   "language": "python",
   "name": "python3"
  },
  "language_info": {
   "codemirror_mode": {
    "name": "ipython",
    "version": 3
   },
   "file_extension": ".py",
   "mimetype": "text/x-python",
   "name": "python",
   "nbconvert_exporter": "python",
   "pygments_lexer": "ipython3",
   "version": "3.9.4"
  }
 },
 "nbformat": 4,
 "nbformat_minor": 5
}
