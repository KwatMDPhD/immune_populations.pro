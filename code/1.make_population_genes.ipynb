{
 "cells": [
  {
   "cell_type": "code",
   "execution_count": null,
   "id": "f468ff1c-181d-4f4f-9189-b26dbbd3faa2",
   "metadata": {},
   "outputs": [],
   "source": [
    "include(\"_.jl\")"
   ]
  },
  {
   "cell_type": "code",
   "execution_count": null,
   "id": "78b08411",
   "metadata": {},
   "outputs": [],
   "source": [
    "da = OnePiece.table.read(\n",
    "    joinpath(\n",
    "        PAI,\n",
    "        \"rna_seq_signatures_normalized_by_mrna_abundance_allow_absolute_deconvolution_of_human_immune_cell_types\",\n",
    "        \"mmc4.xlsx\",\n",
    "    ),\n",
    "    xl = \"DEG modules\",\n",
    ")[\n",
    "    !,\n",
    "    1:2,\n",
    "]"
   ]
  },
  {
   "cell_type": "code",
   "execution_count": null,
   "id": "8cb30eb4",
   "metadata": {},
   "outputs": [],
   "source": [
    "co = \"Gene name\"\n",
    "\n",
    "da[!, co] = OnePiece.gene.rename(string.(da[!, co]))[1]"
   ]
  },
  {
   "cell_type": "code",
   "execution_count": null,
   "id": "df645ced",
   "metadata": {},
   "outputs": [],
   "source": [
    "po_ge_ = Dict(po => [] for po in unique(da[!, \"Cell type\"]))\n",
    "\n",
    "for (ge, po) in eachrow(da)\n",
    "\n",
    "    push!(po_ge_[po], ge)\n",
    "\n",
    "end\n",
    "\n",
    "po_ge_ = sort(po_ge_)"
   ]
  },
  {
   "cell_type": "code",
   "execution_count": null,
   "id": "937ebb29",
   "metadata": {},
   "outputs": [],
   "source": [
    "OnePiece.dict.write(joinpath(PAO, \"population_genes.json\"), po_ge_)\n",
    "\n",
    "for (po, ge_) in po_ge_\n",
    "\n",
    "    println(\"$(length(ge_))\\t$po\")\n",
    "\n",
    "end"
   ]
  }
 ],
 "metadata": {
  "@webio": {
   "lastCommId": null,
   "lastKernelId": null
  },
  "kernelspec": {
   "display_name": "Julia 1.7.2",
   "language": "julia",
   "name": "julia-1.7"
  },
  "language_info": {
   "file_extension": ".jl",
   "mimetype": "application/julia",
   "name": "julia",
   "version": "1.7.3"
  }
 },
 "nbformat": 4,
 "nbformat_minor": 5
}
