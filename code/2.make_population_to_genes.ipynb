{
 "cells": [
  {
   "cell_type": "code",
   "execution_count": 4,
   "id": "f468ff1c-181d-4f4f-9189-b26dbbd3faa2",
   "metadata": {
    "execution": {
     "iopub.execute_input": "2021-11-28T10:21:17.330708Z",
     "iopub.status.busy": "2021-11-28T10:21:16.780811Z",
     "iopub.status.idle": "2021-11-28T10:21:23.577346Z",
     "shell.execute_reply": "2021-11-28T10:21:23.576730Z"
    }
   },
   "outputs": [],
   "source": [
    "include(\"_.jl\")"
   ]
  },
  {
   "cell_type": "code",
   "execution_count": 5,
   "id": "f0909ed6-fb54-4aed-bf5e-607a992e806a",
   "metadata": {
    "execution": {
     "iopub.execute_input": "2021-11-28T10:21:24.861811Z",
     "iopub.status.busy": "2021-11-28T10:21:24.861229Z",
     "iopub.status.idle": "2021-11-28T10:21:28.731528Z",
     "shell.execute_reply": "2021-11-28T10:21:28.731020Z"
    }
   },
   "outputs": [],
   "source": [
    "an_ge_po = TableAccess.read_xlsx(\n",
    "    joinpath(\n",
    "        PAI,\n",
    "        \"rna_seq_signatures_normalized_by_mrna_abundance_allow_absolute_deconvolution_of_human_immune_cell_types\",\n",
    "        \"mmc4.xlsx\",\n",
    "    ),\n",
    "    \"DEG modules\",\n",
    ")[\n",
    "    !,\n",
    "    1:2,\n",
    "]\n",
    "\n",
    ";"
   ]
  },
  {
   "cell_type": "code",
   "execution_count": 8,
   "id": "ecbed5f3",
   "metadata": {},
   "outputs": [
    {
     "name": "stdout",
     "output_type": "stream",
     "text": [
      "2018-09-05 (!String) => Progenitors\n",
      "2018-03-01 (!String) => Neutrophils LD\n",
      "2018-03-02 (!String) => B Ex+SM\n"
     ]
    }
   ],
   "source": [
    "po_ge_ = Dict(po => Vector{String}() for po in unique(an_ge_po[!, \"Cell type\"]))\n",
    "\n",
    "for (ge, po) in eachrow(an_ge_po)\n",
    "\n",
    "    if !(ge isa String)\n",
    "        \n",
    "        println(ge, \" (!String) => \", po)\n",
    "        \n",
    "        continue\n",
    "        \n",
    "    end\n",
    "\n",
    "    push!(po_ge_[po], ge)\n",
    "\n",
    "end"
   ]
  },
  {
   "cell_type": "code",
   "execution_count": 9,
   "id": "937ebb29",
   "metadata": {},
   "outputs": [
    {
     "name": "stdout",
     "output_type": "stream",
     "text": [
      "1\tAPC\n",
      "4\tB Ex\n",
      "4\tB Ex+SM\n",
      "4\tB Memory\n",
      "19\tB NSM\n",
      "42\tB Naive\n",
      "36\tB Naive+Memory\n",
      "3\tB Naive+NSM\n",
      "21\tB SM\n",
      "5\tB cells\n",
      "227\tBasophils LD\n",
      "3\tDCs\n",
      "16\tGranulocytes LD\n",
      "27\tMAIT\n",
      "26\tMonocytes\n",
      "64\tMonocytes C\n",
      "5\tMonocytes C+I\n",
      "17\tMonocytes I\n",
      "49\tMonocytes NC\n",
      "37\tMonocytes NC+I\n",
      "10\tMyeloid\n",
      "22\tMyeloid Phagocytes\n",
      "56\tNK\n",
      "260\tNeutrophils LD\n",
      "2\tPhagocytes\n",
      "181\tPlasmablasts\n",
      "254\tProgenitors\n",
      "13\tT CD4\n",
      "2\tT CD4 Memory\n",
      "7\tT CD4 Naive\n",
      "1\tT CD8\n",
      "3\tT CD8 EM\n",
      "1\tT CD8 EM+TE\n",
      "11\tT CD8 Naive\n",
      "6\tT CD8 TE\n",
      "1\tT Innate\n",
      "5\tT Memory\n",
      "4\tT Naive\n",
      "102\tT cells\n",
      "1\tT gd\n",
      "4\tT gd Vd2\n",
      "5\tT gd non-Vd2\n",
      "2\tTfh\n",
      "1\tTfh+Th\n",
      "1\tTh1/Th17\n",
      "4\tTh17\n",
      "11\tTh2\n",
      "10\tTregs\n",
      "36\tmDCs\n",
      "156\tpDCs\n"
     ]
    }
   ],
   "source": [
    "po_ge_ = sort(po_ge_)\n",
    "\n",
    "DictExtension.write(joinpath(PAO, \"population_to_genes.json\"), po_ge_)\n",
    "\n",
    "for (po, ge_) in po_ge_\n",
    "\n",
    "    println(length(ge_), \"\\t\", po)\n",
    "\n",
    "end"
   ]
  }
 ],
 "metadata": {
  "@webio": {
   "lastCommId": null,
   "lastKernelId": null
  },
  "kernelspec": {
   "display_name": "Julia 1.7.0",
   "language": "julia",
   "name": "julia-1.7"
  },
  "language_info": {
   "file_extension": ".jl",
   "mimetype": "application/julia",
   "name": "julia",
   "version": "1.7.0"
  }
 },
 "nbformat": 4,
 "nbformat_minor": 5
}
