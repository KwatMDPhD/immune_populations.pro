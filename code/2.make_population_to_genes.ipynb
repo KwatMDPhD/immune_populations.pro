{
 "cells": [
  {
   "cell_type": "code",
   "execution_count": null,
   "id": "f468ff1c-181d-4f4f-9189-b26dbbd3faa2",
   "metadata": {
    "execution": {
     "iopub.execute_input": "2021-11-28T10:21:17.330708Z",
     "iopub.status.busy": "2021-11-28T10:21:16.780811Z",
     "iopub.status.idle": "2021-11-28T10:21:23.577346Z",
     "shell.execute_reply": "2021-11-28T10:21:23.576730Z"
    }
   },
   "outputs": [],
   "source": [
    "include(\"_.jl\")"
   ]
  },
  {
   "cell_type": "code",
   "execution_count": null,
   "id": "830455ee-2650-4fd8-bd7f-a65789db6f7c",
   "metadata": {
    "execution": {
     "iopub.execute_input": "2021-11-28T10:21:23.797016Z",
     "iopub.status.busy": "2021-11-28T10:21:23.578559Z",
     "iopub.status.idle": "2021-11-28T10:21:24.859644Z",
     "shell.execute_reply": "2021-11-28T10:21:24.858717Z"
    }
   },
   "outputs": [],
   "source": [
    "po_ge_ = Dict{String,Vector{String}}()\n",
    "\n",
    ";"
   ]
  },
  {
   "cell_type": "code",
   "execution_count": null,
   "id": "f0909ed6-fb54-4aed-bf5e-607a992e806a",
   "metadata": {
    "execution": {
     "iopub.execute_input": "2021-11-28T10:21:24.861811Z",
     "iopub.status.busy": "2021-11-28T10:21:24.861229Z",
     "iopub.status.idle": "2021-11-28T10:21:28.731528Z",
     "shell.execute_reply": "2021-11-28T10:21:28.731020Z"
    }
   },
   "outputs": [],
   "source": [
    "an_ge_ir = TableAccess.read_xlsx(\n",
    "    joinpath(\n",
    "        PAI,\n",
    "        \"rna_seq_signatures_normalized_by_mrna_abundance_allow_absolute_deconvolution_of_human_immune_cell_types\",\n",
    "        \"mmc4.xlsx\",\n",
    "    ),\n",
    "    \"DEG modules\",\n",
    ")[\n",
    "    !,\n",
    "    1:2,\n",
    "]\n",
    "\n",
    ";"
   ]
  },
  {
   "cell_type": "code",
   "execution_count": null,
   "id": "4bc2b92d-162e-47c4-b118-be83063a83af",
   "metadata": {
    "execution": {
     "iopub.execute_input": "2021-11-28T10:21:28.733385Z",
     "iopub.status.busy": "2021-11-28T10:21:28.732806Z",
     "iopub.status.idle": "2021-11-28T10:21:28.946886Z",
     "shell.execute_reply": "2021-11-28T10:21:28.946495Z"
    }
   },
   "outputs": [],
   "source": [
    "for (ge, po) in eachrow(an_ge_ir)\n",
    "\n",
    "    if ge isa String\n",
    "\n",
    "        if haskey(po_ge_, po)\n",
    "\n",
    "            push!(po_ge_[po], ge)\n",
    "\n",
    "        else\n",
    "\n",
    "            po_ge_[po] = [ge]\n",
    "\n",
    "        end\n",
    "\n",
    "    else\n",
    "\n",
    "        println(ge, \" (!String) => \", po)\n",
    "\n",
    "    end\n",
    "\n",
    "end"
   ]
  },
  {
   "cell_type": "code",
   "execution_count": null,
   "id": "937ebb29",
   "metadata": {},
   "outputs": [],
   "source": [
    "po_ge_ = sort(po_ge_)\n",
    "\n",
    "DictExtension.write(joinpath(PAO, \"population_to_genes.json\"), po_ge_)\n",
    "\n",
    "for (po, ge_) in po_ge_\n",
    "    \n",
    "    println(length(ge_), \"\\t\", po)\n",
    "    \n",
    "end"
   ]
  }
 ],
 "metadata": {
  "@webio": {
   "lastCommId": null,
   "lastKernelId": null
  },
  "kernelspec": {
   "display_name": "Julia 1.7.0",
   "language": "julia",
   "name": "julia-1.7"
  },
  "language_info": {
   "file_extension": ".jl",
   "mimetype": "application/julia",
   "name": "julia",
   "version": "1.7.0"
  }
 },
 "nbformat": 4,
 "nbformat_minor": 5
}
