{
 "cells": [
  {
   "cell_type": "code",
   "execution_count": null,
   "id": "f468ff1c-181d-4f4f-9189-b26dbbd3faa2",
   "metadata": {
    "execution": {
     "iopub.execute_input": "2021-11-28T06:30:48.221389Z",
     "iopub.status.busy": "2021-11-28T06:30:47.622921Z",
     "iopub.status.idle": "2021-11-28T06:30:54.759755Z",
     "shell.execute_reply": "2021-11-28T06:30:54.759216Z"
    }
   },
   "outputs": [],
   "source": [
    "include(\"_.jl\")"
   ]
  },
  {
   "cell_type": "code",
   "execution_count": null,
   "id": "830455ee-2650-4fd8-bd7f-a65789db6f7c",
   "metadata": {
    "execution": {
     "iopub.execute_input": "2021-11-28T06:30:54.975567Z",
     "iopub.status.busy": "2021-11-28T06:30:54.760966Z",
     "iopub.status.idle": "2021-11-28T06:30:56.163780Z",
     "shell.execute_reply": "2021-11-28T06:30:56.163370Z"
    }
   },
   "outputs": [],
   "source": [
    "po_ge_ = Dict{String,Vector{String}}()\n",
    "\n",
    ";"
   ]
  },
  {
   "cell_type": "code",
   "execution_count": null,
   "id": "f0909ed6-fb54-4aed-bf5e-607a992e806a",
   "metadata": {
    "execution": {
     "iopub.execute_input": "2021-11-28T06:30:56.165883Z",
     "iopub.status.busy": "2021-11-28T06:30:56.165127Z",
     "iopub.status.idle": "2021-11-28T06:31:01.055354Z",
     "shell.execute_reply": "2021-11-28T06:31:01.054894Z"
    }
   },
   "outputs": [],
   "source": [
    "an_ge_ir = TableAccess.read_xlsx(\n",
    "    joinpath(\n",
    "        PAI,\n",
    "        \"rna_seq_signatures_normalized_by_mrna_abundance_allow_absolute_deconvolution_of_human_immune_cell_types\",\n",
    "        \"mmc4.xlsx\",\n",
    "    ),\n",
    "    \"DEG modules\",\n",
    ")[\n",
    "    !,\n",
    "    1:2,\n",
    "]\n",
    "\n",
    ";"
   ]
  },
  {
   "cell_type": "code",
   "execution_count": null,
   "id": "4bc2b92d-162e-47c4-b118-be83063a83af",
   "metadata": {
    "execution": {
     "iopub.execute_input": "2021-11-28T06:31:01.057153Z",
     "iopub.status.busy": "2021-11-28T06:31:01.056649Z",
     "iopub.status.idle": "2021-11-28T06:31:01.267420Z",
     "shell.execute_reply": "2021-11-28T06:31:01.267020Z"
    }
   },
   "outputs": [],
   "source": [
    "for (ge, po) in eachrow(an_ge_ir)\n",
    "\n",
    "    if ge isa String\n",
    "\n",
    "        if haskey(po_ge_, po)\n",
    "\n",
    "            push!(po_ge_[po], ge)\n",
    "\n",
    "        else\n",
    "\n",
    "            po_ge_[po] = [ge]\n",
    "\n",
    "        end\n",
    "\n",
    "    else\n",
    "\n",
    "        println(ge, \" (!String) => \", po)\n",
    "\n",
    "    end\n",
    "\n",
    "end"
   ]
  },
  {
   "cell_type": "code",
   "execution_count": null,
   "id": "d7afc55c-04bc-4427-a6dc-14f35c790748",
   "metadata": {
    "execution": {
     "iopub.execute_input": "2021-11-28T06:31:01.269217Z",
     "iopub.status.busy": "2021-11-28T06:31:01.268708Z",
     "iopub.status.idle": "2021-11-28T06:31:01.641321Z",
     "shell.execute_reply": "2021-11-28T06:31:01.640912Z"
    }
   },
   "outputs": [],
   "source": [
    "DictExtension.write(joinpath(PAO, \"population_to_genes.json\"), sort(po_ge_))"
   ]
  }
 ],
 "metadata": {
  "@webio": {
   "lastCommId": null,
   "lastKernelId": null
  },
  "kernelspec": {
   "display_name": "Julia 1.6.4",
   "language": "julia",
   "name": "julia-1.6"
  },
  "language_info": {
   "file_extension": ".jl",
   "mimetype": "application/julia",
   "name": "julia",
   "version": "1.6.4"
  }
 },
 "nbformat": 4,
 "nbformat_minor": 5
}
