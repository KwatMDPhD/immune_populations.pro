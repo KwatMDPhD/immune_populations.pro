{
 "cells": [
  {
   "cell_type": "markdown",
   "id": "b90d35bc-7a92-4f68-b1cf-5a9b85b07a6b",
   "metadata": {},
   "source": [
    "https://www.ncbi.nlm.nih.gov/geo/query/acc.cgi?acc=GSE107011"
   ]
  },
  {
   "cell_type": "code",
   "execution_count": null,
   "id": "56b94aa2",
   "metadata": {
    "execution": {
     "iopub.execute_input": "2021-11-28T06:22:50.602849Z",
     "iopub.status.busy": "2021-11-28T06:22:50.602096Z",
     "iopub.status.idle": "2021-11-28T06:22:50.619377Z",
     "shell.execute_reply": "2021-11-28T06:22:50.618785Z"
    },
    "tags": []
   },
   "outputs": [],
   "source": [
    "%load_ext autoreload\n",
    "%autoreload 2"
   ]
  },
  {
   "cell_type": "code",
   "execution_count": null,
   "id": "074c7a95-a792-443d-a18a-a465e1e9e16f",
   "metadata": {
    "execution": {
     "iopub.execute_input": "2021-11-28T06:22:50.622990Z",
     "iopub.status.busy": "2021-11-28T06:22:50.622397Z",
     "iopub.status.idle": "2021-11-28T06:22:56.364800Z",
     "shell.execute_reply": "2021-11-28T06:22:56.365193Z"
    }
   },
   "outputs": [],
   "source": [
    "from _ import *"
   ]
  },
  {
   "cell_type": "code",
   "execution_count": null,
   "id": "a1d35397-6f37-4290-957c-8a899da7e240",
   "metadata": {
    "execution": {
     "iopub.execute_input": "2021-11-28T06:22:56.368465Z",
     "iopub.status.busy": "2021-11-28T06:22:56.367934Z",
     "iopub.status.idle": "2021-11-28T06:22:56.391379Z",
     "shell.execute_reply": "2021-11-28T06:22:56.391798Z"
    },
    "tags": []
   },
   "outputs": [],
   "source": [
    "gs = \"GSE107011\""
   ]
  },
  {
   "cell_type": "code",
   "execution_count": null,
   "id": "ce81e6ab-3f45-4638-8151-42b0f9cec406",
   "metadata": {
    "execution": {
     "iopub.execute_input": "2021-11-28T06:22:56.395567Z",
     "iopub.status.busy": "2021-11-28T06:22:56.394966Z",
     "iopub.status.idle": "2021-11-28T06:22:56.421401Z",
     "shell.execute_reply": "2021-11-28T06:22:56.421867Z"
    },
    "tags": []
   },
   "outputs": [],
   "source": [
    "di, te = kwat.geo.path(PAO, gs)"
   ]
  },
  {
   "cell_type": "code",
   "execution_count": null,
   "id": "f616f38b-b488-4251-b439-f6131c4e5942",
   "metadata": {
    "execution": {
     "iopub.execute_input": "2021-11-28T06:22:56.425085Z",
     "iopub.status.busy": "2021-11-28T06:22:56.424516Z",
     "iopub.status.idle": "2021-11-28T06:22:56.447294Z",
     "shell.execute_reply": "2021-11-28T06:22:56.447664Z"
    },
    "tags": []
   },
   "outputs": [],
   "source": [
    "ov = SE[\"ov\"]"
   ]
  },
  {
   "cell_type": "code",
   "execution_count": null,
   "id": "873297a7-bbd1-4fe7-a74a-6939ac4a5106",
   "metadata": {
    "execution": {
     "iopub.execute_input": "2021-11-28T06:22:56.451188Z",
     "iopub.status.busy": "2021-11-28T06:22:56.450633Z",
     "iopub.status.idle": "2021-11-28T06:22:57.400159Z",
     "shell.execute_reply": "2021-11-28T06:22:57.400599Z"
    },
    "tags": []
   },
   "outputs": [],
   "source": [
    "an_fe_sa_ = kwat.geo.get(gs, di, ov=ov, pr=False)"
   ]
  },
  {
   "cell_type": "code",
   "execution_count": null,
   "id": "6fba5743",
   "metadata": {
    "execution": {
     "iopub.execute_input": "2021-11-28T06:22:57.404015Z",
     "iopub.status.busy": "2021-11-28T06:22:57.403425Z",
     "iopub.status.idle": "2021-11-28T06:22:57.467384Z",
     "shell.execute_reply": "2021-11-28T06:22:57.467847Z"
    },
    "tags": []
   },
   "outputs": [],
   "source": [
    "bi_fe_sa = an_fe_sa_[2]\n",
    "\n",
    "kwat.dataframe.warn(bi_fe_sa)"
   ]
  },
  {
   "cell_type": "code",
   "execution_count": null,
   "id": "9211a42d",
   "metadata": {
    "execution": {
     "iopub.execute_input": "2021-11-28T06:22:57.471576Z",
     "iopub.status.busy": "2021-11-28T06:22:57.470781Z",
     "iopub.status.idle": "2021-11-28T06:22:57.537907Z",
     "shell.execute_reply": "2021-11-28T06:22:57.538434Z"
    },
    "tags": []
   },
   "outputs": [],
   "source": [
    "bi_fe_sa.columns = [re.sub(r\"_rep[0-9]*\", \"\", la) for la in bi_fe_sa.columns.values]\n",
    "\n",
    "kwat.dataframe.warn(bi_fe_sa)"
   ]
  },
  {
   "cell_type": "code",
   "execution_count": null,
   "id": "1e932a34",
   "metadata": {
    "execution": {
     "iopub.execute_input": "2021-11-28T06:22:57.542702Z",
     "iopub.status.busy": "2021-11-28T06:22:57.542000Z",
     "iopub.status.idle": "2021-11-28T06:22:57.582195Z",
     "shell.execute_reply": "2021-11-28T06:22:57.582519Z"
    }
   },
   "outputs": [],
   "source": [
    "for gr, po_ in SE[\"gr_po\"].items():\n",
    "\n",
    "    bi_fe_sa.loc[gr, :] = bi_fe_sa.loc[po_, :].values.any(axis=0).astype(int)"
   ]
  },
  {
   "cell_type": "code",
   "execution_count": null,
   "id": "1c6feea2-855c-4036-98a1-e06f6c8e3461",
   "metadata": {
    "execution": {
     "iopub.execute_input": "2021-11-28T06:22:57.585661Z",
     "iopub.status.busy": "2021-11-28T06:22:57.585158Z",
     "iopub.status.idle": "2021-11-28T06:22:57.677833Z",
     "shell.execute_reply": "2021-11-28T06:22:57.678170Z"
    },
    "scrolled": false,
    "tags": []
   },
   "outputs": [],
   "source": [
    "bi_fe_sa.to_csv(path_or_buf=te.format(\"bi\", \"fe\"), sep=\"\\t\")\n",
    "\n",
    "bi_fe_sa"
   ]
  },
  {
   "cell_type": "code",
   "execution_count": null,
   "id": "fc18a233",
   "metadata": {
    "execution": {
     "iopub.execute_input": "2021-11-28T06:22:57.682381Z",
     "iopub.status.busy": "2021-11-28T06:22:57.681906Z",
     "iopub.status.idle": "2021-11-28T06:23:13.659181Z",
     "shell.execute_reply": "2021-11-28T06:23:13.659631Z"
    },
    "scrolled": false
   },
   "outputs": [],
   "source": [
    "pa = kwat.internet.download(\n",
    "    \"https://ftp.ncbi.nlm.nih.gov/geo/series/GSE107nnn/GSE107011/suppl/GSE107011%5FProcessed%5Fdata%5FTPM%2Etxt%2Egz\",\n",
    "    di,\n",
    "    ov=ov,\n",
    ")\n",
    "\n",
    "nu_ge_sa = pd.read_csv(pa, sep=\"\\t\", index_col=0)\n",
    "\n",
    "kwat.dataframe.warn(nu_ge_sa)"
   ]
  },
  {
   "cell_type": "code",
   "execution_count": null,
   "id": "1f48f700",
   "metadata": {
    "execution": {
     "iopub.execute_input": "2021-11-28T06:23:13.663340Z",
     "iopub.status.busy": "2021-11-28T06:23:13.662762Z",
     "iopub.status.idle": "2021-11-28T06:23:13.689257Z",
     "shell.execute_reply": "2021-11-28T06:23:13.689688Z"
    }
   },
   "outputs": [],
   "source": [
    "kwat.iterable.warn_mismatch(bi_fe_sa.columns.values, nu_ge_sa.columns.values)"
   ]
  },
  {
   "cell_type": "code",
   "execution_count": null,
   "id": "40b8223b",
   "metadata": {
    "execution": {
     "iopub.execute_input": "2021-11-28T06:23:13.694002Z",
     "iopub.status.busy": "2021-11-28T06:23:13.693377Z",
     "iopub.status.idle": "2021-11-28T06:23:44.345683Z",
     "shell.execute_reply": "2021-11-28T06:23:44.346343Z"
    }
   },
   "outputs": [],
   "source": [
    "nu_ge_sa.index = kwat.gene.rename(\n",
    "    [en.split(sep=\".\")[0] for en in nu_ge_sa.index.values]\n",
    ")\n",
    "\n",
    "nu_ge_sa.index.name = \"Gene\"\n",
    "\n",
    "nu_ge_sa = kwat.feature_by_sample.collapse(nu_ge_sa.loc[nu_ge_sa.index.notna(), :])"
   ]
  },
  {
   "cell_type": "code",
   "execution_count": null,
   "id": "0534fe70",
   "metadata": {
    "execution": {
     "iopub.execute_input": "2021-11-28T06:23:44.349855Z",
     "iopub.status.busy": "2021-11-28T06:23:44.349217Z",
     "iopub.status.idle": "2021-11-28T06:24:04.158774Z",
     "shell.execute_reply": "2021-11-28T06:24:04.159209Z"
    },
    "scrolled": false
   },
   "outputs": [],
   "source": [
    "nu_ge_sa = kwat.feature_by_sample.process(nu_ge_sa, lo=2, sh=\"+1\")"
   ]
  },
  {
   "cell_type": "code",
   "execution_count": null,
   "id": "62e03e87-bf87-4677-9df1-957c60178089",
   "metadata": {
    "execution": {
     "iopub.execute_input": "2021-11-28T06:24:04.162856Z",
     "iopub.status.busy": "2021-11-28T06:24:04.162351Z",
     "iopub.status.idle": "2021-11-28T06:24:07.796024Z",
     "shell.execute_reply": "2021-11-28T06:24:07.795584Z"
    },
    "scrolled": false
   },
   "outputs": [],
   "source": [
    "nu_ge_sa.to_csv(path_or_buf=te.format(\"nu\", \"ge\"), sep=\"\\t\")\n",
    "\n",
    "nu_ge_sa"
   ]
  }
 ],
 "metadata": {
  "@webio": {
   "lastCommId": null,
   "lastKernelId": null
  },
  "kernelspec": {
   "display_name": "Python 3 (ipykernel)",
   "language": "python",
   "name": "python3"
  },
  "language_info": {
   "codemirror_mode": {
    "name": "ipython",
    "version": 3
   },
   "file_extension": ".py",
   "mimetype": "text/x-python",
   "name": "python",
   "nbconvert_exporter": "python",
   "pygments_lexer": "ipython3",
   "version": "3.9.7"
  }
 },
 "nbformat": 4,
 "nbformat_minor": 5
}
