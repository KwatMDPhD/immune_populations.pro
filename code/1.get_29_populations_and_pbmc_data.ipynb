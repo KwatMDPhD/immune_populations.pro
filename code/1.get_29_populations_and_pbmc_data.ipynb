{
 "cells": [
  {
   "cell_type": "markdown",
   "id": "b90d35bc-7a92-4f68-b1cf-5a9b85b07a6b",
   "metadata": {},
   "source": [
    "https://www.ncbi.nlm.nih.gov/geo/query/acc.cgi?acc=GSE107011"
   ]
  },
  {
   "cell_type": "code",
   "execution_count": null,
   "id": "56b94aa2",
   "metadata": {
    "execution": {
     "iopub.execute_input": "2021-12-07T20:15:13.384955Z",
     "iopub.status.busy": "2021-12-07T20:15:13.384360Z",
     "iopub.status.idle": "2021-12-07T20:15:13.399716Z",
     "shell.execute_reply": "2021-12-07T20:15:13.400070Z"
    },
    "tags": []
   },
   "outputs": [],
   "source": [
    "%load_ext autoreload\n",
    "%autoreload 2"
   ]
  },
  {
   "cell_type": "code",
   "execution_count": null,
   "id": "074c7a95-a792-443d-a18a-a465e1e9e16f",
   "metadata": {
    "execution": {
     "iopub.execute_input": "2021-12-07T20:15:13.403439Z",
     "iopub.status.busy": "2021-12-07T20:15:13.402899Z",
     "iopub.status.idle": "2021-12-07T20:15:21.806032Z",
     "shell.execute_reply": "2021-12-07T20:15:21.806394Z"
    }
   },
   "outputs": [],
   "source": [
    "from _ import *"
   ]
  },
  {
   "cell_type": "code",
   "execution_count": null,
   "id": "a1d35397-6f37-4290-957c-8a899da7e240",
   "metadata": {
    "execution": {
     "iopub.execute_input": "2021-12-07T20:15:21.809825Z",
     "iopub.status.busy": "2021-12-07T20:15:21.809324Z",
     "iopub.status.idle": "2021-12-07T20:15:21.834393Z",
     "shell.execute_reply": "2021-12-07T20:15:21.834770Z"
    },
    "tags": []
   },
   "outputs": [],
   "source": [
    "gs = \"GSE107011\""
   ]
  },
  {
   "cell_type": "code",
   "execution_count": null,
   "id": "ce81e6ab-3f45-4638-8151-42b0f9cec406",
   "metadata": {
    "execution": {
     "iopub.execute_input": "2021-12-07T20:15:21.837956Z",
     "iopub.status.busy": "2021-12-07T20:15:21.837410Z",
     "iopub.status.idle": "2021-12-07T20:15:21.864035Z",
     "shell.execute_reply": "2021-12-07T20:15:21.864428Z"
    },
    "tags": []
   },
   "outputs": [],
   "source": [
    "di, te = kwat.geo.path(PAO, gs)"
   ]
  },
  {
   "cell_type": "code",
   "execution_count": null,
   "id": "f616f38b-b488-4251-b439-f6131c4e5942",
   "metadata": {
    "execution": {
     "iopub.execute_input": "2021-12-07T20:15:21.868254Z",
     "iopub.status.busy": "2021-12-07T20:15:21.867741Z",
     "iopub.status.idle": "2021-12-07T20:15:21.892585Z",
     "shell.execute_reply": "2021-12-07T20:15:21.892950Z"
    },
    "tags": []
   },
   "outputs": [],
   "source": [
    "ov = SE[\"ov\"]"
   ]
  },
  {
   "cell_type": "code",
   "execution_count": null,
   "id": "873297a7-bbd1-4fe7-a74a-6939ac4a5106",
   "metadata": {
    "execution": {
     "iopub.execute_input": "2021-12-07T20:15:21.896839Z",
     "iopub.status.busy": "2021-12-07T20:15:21.896255Z",
     "iopub.status.idle": "2021-12-07T20:15:22.844296Z",
     "shell.execute_reply": "2021-12-07T20:15:22.844648Z"
    },
    "tags": []
   },
   "outputs": [],
   "source": [
    "an_fe_sa_ = kwat.geo.get(gs, di, ov=ov, pr=False)"
   ]
  },
  {
   "cell_type": "code",
   "execution_count": null,
   "id": "6fba5743",
   "metadata": {
    "execution": {
     "iopub.execute_input": "2021-12-07T20:15:22.848165Z",
     "iopub.status.busy": "2021-12-07T20:15:22.847531Z",
     "iopub.status.idle": "2021-12-07T20:15:22.908546Z",
     "shell.execute_reply": "2021-12-07T20:15:22.908959Z"
    },
    "tags": []
   },
   "outputs": [],
   "source": [
    "bi_fe_sa = an_fe_sa_[2]\n",
    "\n",
    "kwat.dataframe.warn(bi_fe_sa)"
   ]
  },
  {
   "cell_type": "code",
   "execution_count": null,
   "id": "9211a42d",
   "metadata": {
    "execution": {
     "iopub.execute_input": "2021-12-07T20:15:22.912525Z",
     "iopub.status.busy": "2021-12-07T20:15:22.911998Z",
     "iopub.status.idle": "2021-12-07T20:15:22.980830Z",
     "shell.execute_reply": "2021-12-07T20:15:22.981234Z"
    },
    "tags": []
   },
   "outputs": [],
   "source": [
    "bi_fe_sa.columns = [re.sub(r\"_rep[0-9]*\", \"\", la) for la in bi_fe_sa.columns.values]\n",
    "\n",
    "kwat.dataframe.warn(bi_fe_sa)"
   ]
  },
  {
   "cell_type": "code",
   "execution_count": null,
   "id": "1e932a34",
   "metadata": {
    "execution": {
     "iopub.execute_input": "2021-12-07T20:15:22.984854Z",
     "iopub.status.busy": "2021-12-07T20:15:22.984288Z",
     "iopub.status.idle": "2021-12-07T20:15:23.027367Z",
     "shell.execute_reply": "2021-12-07T20:15:23.027732Z"
    }
   },
   "outputs": [],
   "source": [
    "for gr, po_ in SE[\"gr_po\"].items():\n",
    "\n",
    "    bi_fe_sa.loc[gr, :] = bi_fe_sa.loc[po_, :].values.any(axis=0).astype(int)"
   ]
  },
  {
   "cell_type": "code",
   "execution_count": null,
   "id": "1c6feea2-855c-4036-98a1-e06f6c8e3461",
   "metadata": {
    "execution": {
     "iopub.execute_input": "2021-12-07T20:15:23.031136Z",
     "iopub.status.busy": "2021-12-07T20:15:23.030630Z",
     "iopub.status.idle": "2021-12-07T20:15:23.132521Z",
     "shell.execute_reply": "2021-12-07T20:15:23.132936Z"
    },
    "scrolled": false,
    "tags": []
   },
   "outputs": [],
   "source": [
    "bi_fe_sa.to_csv(path_or_buf=te.format(\"bi\", \"fe\"), sep=\"\\t\")\n",
    "\n",
    "bi_fe_sa"
   ]
  },
  {
   "cell_type": "code",
   "execution_count": null,
   "id": "fc18a233",
   "metadata": {
    "execution": {
     "iopub.execute_input": "2021-12-07T20:15:23.136726Z",
     "iopub.status.busy": "2021-12-07T20:15:23.136217Z",
     "iopub.status.idle": "2021-12-07T20:15:42.031202Z",
     "shell.execute_reply": "2021-12-07T20:15:42.031638Z"
    },
    "scrolled": false
   },
   "outputs": [],
   "source": [
    "pa = kwat.internet.download(\n",
    "    \"https://ftp.ncbi.nlm.nih.gov/geo/series/GSE107nnn/GSE107011/suppl/GSE107011%5FProcessed%5Fdata%5FTPM%2Etxt%2Egz\",\n",
    "    di,\n",
    "    ov=ov,\n",
    ")\n",
    "\n",
    "nu_ge_sa = pd.read_csv(pa, sep=\"\\t\", index_col=0)\n",
    "\n",
    "kwat.dataframe.warn(nu_ge_sa)"
   ]
  },
  {
   "cell_type": "code",
   "execution_count": null,
   "id": "1f48f700",
   "metadata": {
    "execution": {
     "iopub.execute_input": "2021-12-07T20:15:42.034980Z",
     "iopub.status.busy": "2021-12-07T20:15:42.034406Z",
     "iopub.status.idle": "2021-12-07T20:15:42.060977Z",
     "shell.execute_reply": "2021-12-07T20:15:42.061394Z"
    }
   },
   "outputs": [],
   "source": [
    "kwat.iterable.warn_mismatch(bi_fe_sa.columns.values, nu_ge_sa.columns.values)"
   ]
  },
  {
   "cell_type": "code",
   "execution_count": null,
   "id": "40b8223b",
   "metadata": {
    "execution": {
     "iopub.execute_input": "2021-12-07T20:15:42.065098Z",
     "iopub.status.busy": "2021-12-07T20:15:42.064527Z",
     "iopub.status.idle": "2021-12-07T20:16:31.389061Z",
     "shell.execute_reply": "2021-12-07T20:16:31.389486Z"
    }
   },
   "outputs": [],
   "source": [
    "nu_ge_sa.index = kwat.gene.rename(\n",
    "    [en.split(sep=\".\")[0] for en in nu_ge_sa.index.values]\n",
    ")\n",
    "\n",
    "nu_ge_sa.index.name = \"Gene\"\n",
    "\n",
    "nu_ge_sa = kwat.feature_by_sample.collapse(nu_ge_sa.loc[nu_ge_sa.index.notna(), :])"
   ]
  },
  {
   "cell_type": "code",
   "execution_count": null,
   "id": "0534fe70",
   "metadata": {
    "execution": {
     "iopub.execute_input": "2021-12-07T20:16:31.392925Z",
     "iopub.status.busy": "2021-12-07T20:16:31.392346Z",
     "iopub.status.idle": "2021-12-07T20:16:54.694167Z",
     "shell.execute_reply": "2021-12-07T20:16:54.693702Z"
    },
    "scrolled": false
   },
   "outputs": [],
   "source": [
    "nu_ge_sa = kwat.feature_by_sample.process(nu_ge_sa, lo=2, sh=\"+1\")"
   ]
  },
  {
   "cell_type": "code",
   "execution_count": null,
   "id": "62e03e87-bf87-4677-9df1-957c60178089",
   "metadata": {
    "execution": {
     "iopub.execute_input": "2021-12-07T20:16:54.697725Z",
     "iopub.status.busy": "2021-12-07T20:16:54.697146Z",
     "iopub.status.idle": "2021-12-07T20:16:59.030615Z",
     "shell.execute_reply": "2021-12-07T20:16:59.031045Z"
    },
    "scrolled": false
   },
   "outputs": [],
   "source": [
    "nu_ge_sa.to_csv(path_or_buf=te.format(\"nu\", \"ge\"), sep=\"\\t\")\n",
    "\n",
    "nu_ge_sa"
   ]
  }
 ],
 "metadata": {
  "@webio": {
   "lastCommId": null,
   "lastKernelId": null
  },
  "kernelspec": {
   "display_name": "Python 3 (ipykernel)",
   "language": "python",
   "name": "python3"
  },
  "language_info": {
   "codemirror_mode": {
    "name": "ipython",
    "version": 3
   },
   "file_extension": ".py",
   "mimetype": "text/x-python",
   "name": "python",
   "nbconvert_exporter": "python",
   "pygments_lexer": "ipython3",
   "version": "3.9.9"
  }
 },
 "nbformat": 4,
 "nbformat_minor": 5
}
