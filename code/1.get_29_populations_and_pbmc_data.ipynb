{
 "cells": [
  {
   "cell_type": "markdown",
   "id": "b90d35bc-7a92-4f68-b1cf-5a9b85b07a6b",
   "metadata": {},
   "source": [
    "https://www.ncbi.nlm.nih.gov/geo/query/acc.cgi?acc=GSE107011"
   ]
  },
  {
   "cell_type": "code",
   "execution_count": null,
   "id": "56b94aa2",
   "metadata": {
    "execution": {
     "iopub.execute_input": "2021-12-07T21:40:58.931326Z",
     "iopub.status.busy": "2021-12-07T21:40:58.930671Z",
     "iopub.status.idle": "2021-12-07T21:40:58.946719Z",
     "shell.execute_reply": "2021-12-07T21:40:58.947139Z"
    },
    "tags": []
   },
   "outputs": [],
   "source": [
    "%load_ext autoreload\n",
    "%autoreload 2"
   ]
  },
  {
   "cell_type": "code",
   "execution_count": null,
   "id": "074c7a95-a792-443d-a18a-a465e1e9e16f",
   "metadata": {
    "execution": {
     "iopub.execute_input": "2021-12-07T21:40:58.950828Z",
     "iopub.status.busy": "2021-12-07T21:40:58.950205Z",
     "iopub.status.idle": "2021-12-07T21:41:07.960014Z",
     "shell.execute_reply": "2021-12-07T21:41:07.959500Z"
    }
   },
   "outputs": [],
   "source": [
    "from _ import *"
   ]
  },
  {
   "cell_type": "code",
   "execution_count": null,
   "id": "a1d35397-6f37-4290-957c-8a899da7e240",
   "metadata": {
    "execution": {
     "iopub.execute_input": "2021-12-07T21:41:07.963346Z",
     "iopub.status.busy": "2021-12-07T21:41:07.962702Z",
     "iopub.status.idle": "2021-12-07T21:41:07.990053Z",
     "shell.execute_reply": "2021-12-07T21:41:07.989408Z"
    },
    "tags": []
   },
   "outputs": [],
   "source": [
    "gs = \"GSE107011\""
   ]
  },
  {
   "cell_type": "code",
   "execution_count": null,
   "id": "ce81e6ab-3f45-4638-8151-42b0f9cec406",
   "metadata": {
    "execution": {
     "iopub.execute_input": "2021-12-07T21:41:07.993318Z",
     "iopub.status.busy": "2021-12-07T21:41:07.992722Z",
     "iopub.status.idle": "2021-12-07T21:41:08.019638Z",
     "shell.execute_reply": "2021-12-07T21:41:08.020064Z"
    },
    "tags": []
   },
   "outputs": [],
   "source": [
    "di, te = kwat.geo.path(PAO, gs)"
   ]
  },
  {
   "cell_type": "code",
   "execution_count": null,
   "id": "f616f38b-b488-4251-b439-f6131c4e5942",
   "metadata": {
    "execution": {
     "iopub.execute_input": "2021-12-07T21:41:08.023134Z",
     "iopub.status.busy": "2021-12-07T21:41:08.022548Z",
     "iopub.status.idle": "2021-12-07T21:41:08.049219Z",
     "shell.execute_reply": "2021-12-07T21:41:08.049637Z"
    },
    "tags": []
   },
   "outputs": [],
   "source": [
    "ov = SE[\"ov\"]"
   ]
  },
  {
   "cell_type": "code",
   "execution_count": null,
   "id": "873297a7-bbd1-4fe7-a74a-6939ac4a5106",
   "metadata": {
    "execution": {
     "iopub.execute_input": "2021-12-07T21:41:08.053014Z",
     "iopub.status.busy": "2021-12-07T21:41:08.052430Z",
     "iopub.status.idle": "2021-12-07T21:41:09.190960Z",
     "shell.execute_reply": "2021-12-07T21:41:09.191446Z"
    },
    "tags": []
   },
   "outputs": [],
   "source": [
    "an_fe_sa_ = kwat.geo.get(gs, di, ov=ov, pr=False)"
   ]
  },
  {
   "cell_type": "code",
   "execution_count": null,
   "id": "6fba5743",
   "metadata": {
    "execution": {
     "iopub.execute_input": "2021-12-07T21:41:09.194597Z",
     "iopub.status.busy": "2021-12-07T21:41:09.194023Z",
     "iopub.status.idle": "2021-12-07T21:41:09.261843Z",
     "shell.execute_reply": "2021-12-07T21:41:09.262336Z"
    },
    "tags": []
   },
   "outputs": [],
   "source": [
    "bi_fe_sa = an_fe_sa_[2]\n",
    "\n",
    "kwat.dataframe.warn(bi_fe_sa)"
   ]
  },
  {
   "cell_type": "code",
   "execution_count": null,
   "id": "9211a42d",
   "metadata": {
    "execution": {
     "iopub.execute_input": "2021-12-07T21:41:09.266062Z",
     "iopub.status.busy": "2021-12-07T21:41:09.265477Z",
     "iopub.status.idle": "2021-12-07T21:41:09.340325Z",
     "shell.execute_reply": "2021-12-07T21:41:09.340874Z"
    },
    "tags": []
   },
   "outputs": [],
   "source": [
    "bi_fe_sa.columns = [re.sub(r\"_rep[0-9]*\", \"\", la) for la in bi_fe_sa.columns.values]\n",
    "\n",
    "kwat.dataframe.warn(bi_fe_sa)"
   ]
  },
  {
   "cell_type": "code",
   "execution_count": null,
   "id": "1e932a34",
   "metadata": {
    "execution": {
     "iopub.execute_input": "2021-12-07T21:41:09.344403Z",
     "iopub.status.busy": "2021-12-07T21:41:09.343819Z",
     "iopub.status.idle": "2021-12-07T21:41:09.388231Z",
     "shell.execute_reply": "2021-12-07T21:41:09.388652Z"
    }
   },
   "outputs": [],
   "source": [
    "for gr, po_ in SE[\"gr_po\"].items():\n",
    "\n",
    "    bi_fe_sa.loc[gr, :] = bi_fe_sa.loc[po_, :].values.any(axis=0).astype(int)"
   ]
  },
  {
   "cell_type": "code",
   "execution_count": null,
   "id": "1c6feea2-855c-4036-98a1-e06f6c8e3461",
   "metadata": {
    "execution": {
     "iopub.execute_input": "2021-12-07T21:41:09.392087Z",
     "iopub.status.busy": "2021-12-07T21:41:09.391500Z",
     "iopub.status.idle": "2021-12-07T21:41:09.501421Z",
     "shell.execute_reply": "2021-12-07T21:41:09.500903Z"
    },
    "scrolled": false,
    "tags": []
   },
   "outputs": [],
   "source": [
    "bi_fe_sa.to_csv(path_or_buf=te.format(\"bi\", \"fe\"), sep=\"\\t\")\n",
    "\n",
    "bi_fe_sa"
   ]
  },
  {
   "cell_type": "code",
   "execution_count": null,
   "id": "fc18a233",
   "metadata": {
    "execution": {
     "iopub.execute_input": "2021-12-07T21:41:09.505295Z",
     "iopub.status.busy": "2021-12-07T21:41:09.504670Z",
     "iopub.status.idle": "2021-12-07T21:41:28.924563Z",
     "shell.execute_reply": "2021-12-07T21:41:28.924032Z"
    },
    "scrolled": false
   },
   "outputs": [],
   "source": [
    "pa = kwat.internet.download(\n",
    "    \"https://ftp.ncbi.nlm.nih.gov/geo/series/GSE107nnn/GSE107011/suppl/GSE107011%5FProcessed%5Fdata%5FTPM%2Etxt%2Egz\",\n",
    "    di,\n",
    "    ov=ov,\n",
    ")\n",
    "\n",
    "nu_ge_sa = pd.read_csv(pa, sep=\"\\t\", index_col=0)\n",
    "\n",
    "kwat.dataframe.warn(nu_ge_sa)"
   ]
  },
  {
   "cell_type": "code",
   "execution_count": null,
   "id": "1f48f700",
   "metadata": {
    "execution": {
     "iopub.execute_input": "2021-12-07T21:41:28.928358Z",
     "iopub.status.busy": "2021-12-07T21:41:28.927774Z",
     "iopub.status.idle": "2021-12-07T21:41:28.955353Z",
     "shell.execute_reply": "2021-12-07T21:41:28.955773Z"
    }
   },
   "outputs": [],
   "source": [
    "kwat.iterable.warn_mismatch(bi_fe_sa.columns.values, nu_ge_sa.columns.values)"
   ]
  },
  {
   "cell_type": "code",
   "execution_count": null,
   "id": "40b8223b",
   "metadata": {
    "execution": {
     "iopub.execute_input": "2021-12-07T21:41:28.959527Z",
     "iopub.status.busy": "2021-12-07T21:41:28.958950Z",
     "iopub.status.idle": "2021-12-07T21:42:19.853160Z",
     "shell.execute_reply": "2021-12-07T21:42:19.853590Z"
    }
   },
   "outputs": [],
   "source": [
    "nu_ge_sa.index = kwat.gene.rename(\n",
    "    [en.split(sep=\".\")[0] for en in nu_ge_sa.index.values]\n",
    ")\n",
    "\n",
    "nu_ge_sa.index.name = \"Gene\"\n",
    "\n",
    "nu_ge_sa = kwat.feature_by_sample.collapse(nu_ge_sa.loc[nu_ge_sa.index.notna(), :])"
   ]
  },
  {
   "cell_type": "code",
   "execution_count": null,
   "id": "0534fe70",
   "metadata": {
    "execution": {
     "iopub.execute_input": "2021-12-07T21:42:19.857058Z",
     "iopub.status.busy": "2021-12-07T21:42:19.856483Z",
     "iopub.status.idle": "2021-12-07T21:42:43.494106Z",
     "shell.execute_reply": "2021-12-07T21:42:43.493668Z"
    },
    "scrolled": false
   },
   "outputs": [],
   "source": [
    "nu_ge_sa = kwat.feature_by_sample.process(nu_ge_sa, lo=2, sh=\"+1\")"
   ]
  },
  {
   "cell_type": "code",
   "execution_count": null,
   "id": "62e03e87-bf87-4677-9df1-957c60178089",
   "metadata": {
    "execution": {
     "iopub.execute_input": "2021-12-07T21:42:43.497884Z",
     "iopub.status.busy": "2021-12-07T21:42:43.497313Z",
     "iopub.status.idle": "2021-12-07T21:42:47.824445Z",
     "shell.execute_reply": "2021-12-07T21:42:47.824880Z"
    },
    "scrolled": false
   },
   "outputs": [],
   "source": [
    "nu_ge_sa.to_csv(path_or_buf=te.format(\"nu\", \"ge\"), sep=\"\\t\")\n",
    "\n",
    "nu_ge_sa"
   ]
  }
 ],
 "metadata": {
  "@webio": {
   "lastCommId": null,
   "lastKernelId": null
  },
  "kernelspec": {
   "display_name": "Python 3 (ipykernel)",
   "language": "python",
   "name": "python3"
  },
  "language_info": {
   "codemirror_mode": {
    "name": "ipython",
    "version": 3
   },
   "file_extension": ".py",
   "mimetype": "text/x-python",
   "name": "python",
   "nbconvert_exporter": "python",
   "pygments_lexer": "ipython3",
   "version": "3.9.9"
  }
 },
 "nbformat": 4,
 "nbformat_minor": 5
}
