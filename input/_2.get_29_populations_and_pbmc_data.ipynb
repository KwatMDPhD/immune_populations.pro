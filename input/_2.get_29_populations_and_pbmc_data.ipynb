{
 "cells": [
  {
   "cell_type": "markdown",
   "id": "b90d35bc-7a92-4f68-b1cf-5a9b85b07a6b",
   "metadata": {},
   "source": [
    "https://www.ncbi.nlm.nih.gov/geo/query/acc.cgi?acc=GSE107011"
   ]
  },
  {
   "cell_type": "code",
   "execution_count": null,
   "id": "56b94aa2",
   "metadata": {},
   "outputs": [],
   "source": [
    "%load_ext autoreload\n",
    "%autoreload 2"
   ]
  },
  {
   "cell_type": "code",
   "execution_count": null,
   "id": "074c7a95-a792-443d-a18a-a465e1e9e16f",
   "metadata": {},
   "outputs": [],
   "source": [
    "from _ import *"
   ]
  },
  {
   "cell_type": "code",
   "execution_count": null,
   "id": "a1d35397-6f37-4290-957c-8a899da7e240",
   "metadata": {},
   "outputs": [],
   "source": [
    "gs = \"GSE107011\""
   ]
  },
  {
   "cell_type": "code",
   "execution_count": null,
   "id": "ce81e6ab-3f45-4638-8151-42b0f9cec406",
   "metadata": {},
   "outputs": [],
   "source": [
    "di, te = kwat.geo.path(PAO, gs)"
   ]
  },
  {
   "cell_type": "code",
   "execution_count": null,
   "id": "f616f38b-b488-4251-b439-f6131c4e5942",
   "metadata": {},
   "outputs": [],
   "source": [
    "ov = SE[\"ov\"]"
   ]
  },
  {
   "cell_type": "code",
   "execution_count": null,
   "id": "873297a7-bbd1-4fe7-a74a-6939ac4a5106",
   "metadata": {},
   "outputs": [],
   "source": [
    "an_fe_sa_ = kwat.geo.get(gs, di, ov=ov, pr=False)"
   ]
  },
  {
   "cell_type": "code",
   "execution_count": null,
   "id": "6fba5743",
   "metadata": {},
   "outputs": [],
   "source": [
    "bi_fe_sa = an_fe_sa_[2]\n",
    "\n",
    "kwat.dataframe.warn(bi_fe_sa)"
   ]
  },
  {
   "cell_type": "code",
   "execution_count": null,
   "id": "9211a42d",
   "metadata": {},
   "outputs": [],
   "source": [
    "bi_fe_sa.columns = [re.sub(r\"_rep[0-9]*\", \"\", la) for la in bi_fe_sa.columns.values]\n",
    "\n",
    "kwat.dataframe.warn(bi_fe_sa)"
   ]
  },
  {
   "cell_type": "code",
   "execution_count": null,
   "id": "1e932a34",
   "metadata": {},
   "outputs": [],
   "source": [
    "for gr, po_ in SE[\"gr_po\"].items():\n",
    "\n",
    "    bi_fe_sa.loc[gr, :] = bi_fe_sa.loc[po_, :].values.any(axis=0).astype(int)"
   ]
  },
  {
   "cell_type": "code",
   "execution_count": null,
   "id": "1c6feea2-855c-4036-98a1-e06f6c8e3461",
   "metadata": {},
   "outputs": [],
   "source": [
    "bi_fe_sa.to_csv(path_or_buf=te.format(\"bi\", \"fe\"), sep=\"\\t\")\n",
    "\n",
    "bi_fe_sa"
   ]
  },
  {
   "cell_type": "code",
   "execution_count": null,
   "id": "fc18a233",
   "metadata": {},
   "outputs": [],
   "source": [
    "pa = kwat.internet.download(\n",
    "    \"https://ftp.ncbi.nlm.nih.gov/geo/series/GSE107nnn/GSE107011/suppl/GSE107011%5FProcessed%5Fdata%5FTPM%2Etxt%2Egz\",\n",
    "    di,\n",
    "    ov=ov,\n",
    ")\n",
    "\n",
    "nu_ge_sa = pd.read_csv(pa, sep=\"\\t\", index_col=0)\n",
    "\n",
    "kwat.dataframe.warn(nu_ge_sa)"
   ]
  },
  {
   "cell_type": "code",
   "execution_count": null,
   "id": "1f48f700",
   "metadata": {},
   "outputs": [],
   "source": [
    "kwat.iterable.warn_mismatch(bi_fe_sa.columns.values, nu_ge_sa.columns.values)"
   ]
  },
  {
   "cell_type": "code",
   "execution_count": null,
   "id": "40b8223b",
   "metadata": {},
   "outputs": [],
   "source": [
    "nu_ge_sa.index = kwat.gene.rename(\n",
    "    [en.split(sep=\".\")[0] for en in nu_ge_sa.index.values]\n",
    ")\n",
    "\n",
    "nu_ge_sa.index.name = \"Gene\"\n",
    "\n",
    "nu_ge_sa = kwat.feature_by_sample.collapse(nu_ge_sa.loc[nu_ge_sa.index.notna(), :])"
   ]
  },
  {
   "cell_type": "code",
   "execution_count": null,
   "id": "0534fe70",
   "metadata": {},
   "outputs": [],
   "source": [
    "nu_ge_sa = kwat.feature_by_sample.process(nu_ge_sa, lo=2, sh=\"+1\")"
   ]
  },
  {
   "cell_type": "code",
   "execution_count": null,
   "id": "62e03e87-bf87-4677-9df1-957c60178089",
   "metadata": {},
   "outputs": [],
   "source": [
    "nu_ge_sa.to_csv(path_or_buf=te.format(\"nu\", \"ge\"), sep=\"\\t\")\n",
    "\n",
    "nu_ge_sa"
   ]
  }
 ],
 "metadata": {
  "@webio": {
   "lastCommId": null,
   "lastKernelId": null
  },
  "kernelspec": {
   "display_name": "Python 3 (ipykernel)",
   "language": "python",
   "name": "python3"
  },
  "language_info": {
   "codemirror_mode": {
    "name": "ipython",
    "version": 3
   },
   "file_extension": ".py",
   "mimetype": "text/x-python",
   "name": "python",
   "nbconvert_exporter": "python",
   "pygments_lexer": "ipython3",
   "version": "3.9.9"
  }
 },
 "nbformat": 4,
 "nbformat_minor": 5
}
