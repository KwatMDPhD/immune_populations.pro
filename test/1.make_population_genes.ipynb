{
 "cells": [
  {
   "cell_type": "code",
   "execution_count": 1,
   "id": "f468ff1c-181d-4f4f-9189-b26dbbd3faa2",
   "metadata": {
    "execution": {
     "iopub.execute_input": "2022-07-07T21:55:21.145000Z",
     "iopub.status.busy": "2022-07-07T21:55:20.812000Z",
     "iopub.status.idle": "2022-07-07T21:55:25.423000Z",
     "shell.execute_reply": "2022-07-07T21:55:25.377000Z"
    }
   },
   "outputs": [],
   "source": [
    "using ImmunePopulations\n",
    "using OnePiece"
   ]
  },
  {
   "cell_type": "code",
   "execution_count": 2,
   "id": "78b08411",
   "metadata": {
    "execution": {
     "iopub.execute_input": "2022-07-07T21:55:25.866000Z",
     "iopub.status.busy": "2022-07-07T21:55:25.425000Z",
     "iopub.status.idle": "2022-07-07T21:55:34.425000Z",
     "shell.execute_reply": "2022-07-07T21:55:34.425000Z"
    }
   },
   "outputs": [
    {
     "data": {
      "text/html": [
       "<div class=\"data-frame\"><p>1,785 rows × 2 columns</p><table class=\"data-frame\"><thead><tr><th></th><th>Gene name</th><th>Cell type</th></tr><tr><th></th><th title=\"Any\">Any</th><th title=\"Any\">Any</th></tr></thead><tbody><tr><th>1</th><td>AP001171.1</td><td>Progenitors</td></tr><tr><th>2</th><td>AC010745.4</td><td>Progenitors</td></tr><tr><th>3</th><td>CD34</td><td>Progenitors</td></tr><tr><th>4</th><td>HTR1F</td><td>Progenitors</td></tr><tr><th>5</th><td>MMP2</td><td>Progenitors</td></tr><tr><th>6</th><td>SCT</td><td>pDCs</td></tr><tr><th>7</th><td>IGLVI-70</td><td>B cells</td></tr><tr><th>8</th><td>LINC01478</td><td>pDCs</td></tr><tr><th>9</th><td>LINC02218</td><td>Neutrophils LD</td></tr><tr><th>10</th><td>RP11-73G16.2</td><td>pDCs</td></tr><tr><th>11</th><td>PI3</td><td>Neutrophils LD</td></tr><tr><th>12</th><td>PROM1</td><td>Progenitors</td></tr><tr><th>13</th><td>TGM3</td><td>Neutrophils LD</td></tr><tr><th>14</th><td>EGFEM1P</td><td>Progenitors</td></tr><tr><th>15</th><td>OR6N1</td><td>Basophils LD</td></tr><tr><th>16</th><td>OR2I1P</td><td>Basophils LD</td></tr><tr><th>17</th><td>RP11-529A4.7</td><td>Basophils LD</td></tr><tr><th>18</th><td>RP11-71G12.1</td><td>pDCs</td></tr><tr><th>19</th><td>UBASH3A</td><td>T cells</td></tr><tr><th>20</th><td>POU2AF1</td><td>B cells</td></tr><tr><th>21</th><td>DSG3</td><td>Basophils LD</td></tr><tr><th>22</th><td>PAX5</td><td>B Naive+Memory</td></tr><tr><th>23</th><td>LINC00926</td><td>B Naive+Memory</td></tr><tr><th>24</th><td>VPREB3</td><td>B Naive+Memory</td></tr><tr><th>25</th><td>AC092646.2</td><td>Progenitors</td></tr><tr><th>26</th><td>RP11-321E2.5</td><td>Neutrophils LD</td></tr><tr><th>27</th><td>THEMIS</td><td>T cells</td></tr><tr><th>28</th><td>KCNK10</td><td>pDCs</td></tr><tr><th>29</th><td>RP11-529A4.4</td><td>Basophils LD</td></tr><tr><th>30</th><td>CSNK1A1L</td><td>Neutrophils LD</td></tr><tr><th>&vellip;</th><td>&vellip;</td><td>&vellip;</td></tr></tbody></table></div>"
      ],
      "text/latex": [
       "\\begin{tabular}{r|cc}\n",
       "\t& Gene name & Cell type\\\\\n",
       "\t\\hline\n",
       "\t& Any & Any\\\\\n",
       "\t\\hline\n",
       "\t1 & AP001171.1 & Progenitors \\\\\n",
       "\t2 & AC010745.4 & Progenitors \\\\\n",
       "\t3 & CD34 & Progenitors \\\\\n",
       "\t4 & HTR1F & Progenitors \\\\\n",
       "\t5 & MMP2 & Progenitors \\\\\n",
       "\t6 & SCT & pDCs \\\\\n",
       "\t7 & IGLVI-70 & B cells \\\\\n",
       "\t8 & LINC01478 & pDCs \\\\\n",
       "\t9 & LINC02218 & Neutrophils LD \\\\\n",
       "\t10 & RP11-73G16.2 & pDCs \\\\\n",
       "\t11 & PI3 & Neutrophils LD \\\\\n",
       "\t12 & PROM1 & Progenitors \\\\\n",
       "\t13 & TGM3 & Neutrophils LD \\\\\n",
       "\t14 & EGFEM1P & Progenitors \\\\\n",
       "\t15 & OR6N1 & Basophils LD \\\\\n",
       "\t16 & OR2I1P & Basophils LD \\\\\n",
       "\t17 & RP11-529A4.7 & Basophils LD \\\\\n",
       "\t18 & RP11-71G12.1 & pDCs \\\\\n",
       "\t19 & UBASH3A & T cells \\\\\n",
       "\t20 & POU2AF1 & B cells \\\\\n",
       "\t21 & DSG3 & Basophils LD \\\\\n",
       "\t22 & PAX5 & B Naive+Memory \\\\\n",
       "\t23 & LINC00926 & B Naive+Memory \\\\\n",
       "\t24 & VPREB3 & B Naive+Memory \\\\\n",
       "\t25 & AC092646.2 & Progenitors \\\\\n",
       "\t26 & RP11-321E2.5 & Neutrophils LD \\\\\n",
       "\t27 & THEMIS & T cells \\\\\n",
       "\t28 & KCNK10 & pDCs \\\\\n",
       "\t29 & RP11-529A4.4 & Basophils LD \\\\\n",
       "\t30 & CSNK1A1L & Neutrophils LD \\\\\n",
       "\t$\\dots$ & $\\dots$ & $\\dots$ \\\\\n",
       "\\end{tabular}\n"
      ],
      "text/plain": [
       "\u001b[1m1785×2 DataFrame\u001b[0m\n",
       "\u001b[1m  Row \u001b[0m│\u001b[1m Gene name     \u001b[0m\u001b[1m Cell type      \u001b[0m\n",
       "\u001b[1m      \u001b[0m│\u001b[90m Any           \u001b[0m\u001b[90m Any            \u001b[0m\n",
       "──────┼───────────────────────────────\n",
       "    1 │ AP001171.1     Progenitors\n",
       "    2 │ AC010745.4     Progenitors\n",
       "    3 │ CD34           Progenitors\n",
       "    4 │ HTR1F          Progenitors\n",
       "    5 │ MMP2           Progenitors\n",
       "    6 │ SCT            pDCs\n",
       "    7 │ IGLVI-70       B cells\n",
       "    8 │ LINC01478      pDCs\n",
       "    9 │ LINC02218      Neutrophils LD\n",
       "   10 │ RP11-73G16.2   pDCs\n",
       "   11 │ PI3            Neutrophils LD\n",
       "  ⋮   │       ⋮              ⋮\n",
       " 1776 │ F2R            NK\n",
       " 1777 │ TRAV34         T CD8 TE\n",
       " 1778 │ FAAHP1         Th17\n",
       " 1779 │ RP5-1158E12.3  Th2\n",
       " 1780 │ HPCAL4         Tfh\n",
       " 1781 │ LINC00402      Tfh\n",
       " 1782 │ DPP4           MAIT\n",
       " 1783 │ IGLV3-13       T CD8 TE\n",
       " 1784 │ JAKMIP1        T CD8 EM\n",
       " 1785 │ TRAV39         T CD8 EM\n",
       "\u001b[36m                     1764 rows omitted\u001b[0m"
      ]
     },
     "execution_count": 2,
     "metadata": {},
     "output_type": "execute_result"
    }
   ],
   "source": [
    "da = OnePiece.table.read(\n",
    "    joinpath(\n",
    "        PAI,\n",
    "        \"rna_seq_signatures_normalized_by_mrna_abundance_allow_absolute_deconvolution_of_human_immune_cell_types\",\n",
    "        \"mmc4.xlsx\",\n",
    "    ),\n",
    "    xl = \"DEG modules\",\n",
    ")[\n",
    "    !,\n",
    "    1:2,\n",
    "]"
   ]
  },
  {
   "cell_type": "code",
   "execution_count": 3,
   "id": "8cb30eb4",
   "metadata": {
    "execution": {
     "iopub.execute_input": "2022-07-07T21:55:34.428000Z",
     "iopub.status.busy": "2022-07-07T21:55:34.428000Z",
     "iopub.status.idle": "2022-07-07T21:55:54.544000Z",
     "shell.execute_reply": "2022-07-07T21:55:54.543000Z"
    }
   },
   "outputs": [
    {
     "name": "stdout",
     "output_type": "stream",
     "text": [
      "Kept 1477\n",
      "Named 49\n",
      "Failed 259\n"
     ]
    },
    {
     "data": {
      "text/plain": [
       "1785-element Vector{String}:\n",
       " \"AP001171.1\"\n",
       " \"AC010745.4\"\n",
       " \"CD34\"\n",
       " \"HTR1F\"\n",
       " \"MMP2\"\n",
       " \"SCT\"\n",
       " \"IGLVI-70\"\n",
       " \"LINC01478\"\n",
       " \"LINC02218\"\n",
       " \"RP11-73G16.2\"\n",
       " \"PI3\"\n",
       " \"PROM1\"\n",
       " \"TGM3\"\n",
       " ⋮\n",
       " \"CFH\"\n",
       " \"KRT72\"\n",
       " \"F2R\"\n",
       " \"TRAV34\"\n",
       " \"FAAHP1\"\n",
       " \"RP5-1158E12.3\"\n",
       " \"HPCAL4\"\n",
       " \"LINC00402\"\n",
       " \"DPP4\"\n",
       " \"IGLV3-13\"\n",
       " \"JAKMIP1\"\n",
       " \"TRAV39\""
      ]
     },
     "execution_count": 3,
     "metadata": {},
     "output_type": "execute_result"
    }
   ],
   "source": [
    "co = \"Gene name\"\n",
    "\n",
    "da[!, co] = OnePiece.gene.rename(string.(da[!, co]))[1]"
   ]
  },
  {
   "cell_type": "code",
   "execution_count": 4,
   "id": "df645ced",
   "metadata": {
    "execution": {
     "iopub.execute_input": "2022-07-07T21:55:54.547000Z",
     "iopub.status.busy": "2022-07-07T21:55:54.546000Z",
     "iopub.status.idle": "2022-07-07T21:55:55.586000Z",
     "shell.execute_reply": "2022-07-07T21:55:55.586000Z"
    }
   },
   "outputs": [
    {
     "data": {
      "text/plain": [
       "OrderedCollections.OrderedDict{String, Vector{Any}} with 50 entries:\n",
       "  \"APC\"                => [\"UBE2E2\"]\n",
       "  \"B Ex\"               => [\"FCRL5\", \"CTD-2232E5.2\", \"MOXD1\", \"PPP1R14A\"]\n",
       "  \"B Ex+SM\"            => [\"IGHE\", \"AL928768.3\", \"PARM1\", \"2018-03-02\", \"RP11-1…\n",
       "  \"B Memory\"           => [\"RP11-444D3.1\", \"TNFRSF13B\", \"DOK7\", \"ZBTB32\"]\n",
       "  \"B NSM\"              => [\"RP4-809F18.1\", \"LINC01857\", \"AC002480.5\", \"RP11-731…\n",
       "  \"B Naive\"            => [\"RP11-265P11.1\", \"KCNG1\", \"TCL1B\", \"LIX1\", \"LINC0101…\n",
       "  \"B Naive+Memory\"     => [\"PAX5\", \"LINC00926\", \"VPREB3\", \"CTD-2363C16.2\", \"ZNF…\n",
       "  \"B Naive+NSM\"        => [\"AC002480.3\", \"STEAP1B\", \"MIR4539\"]\n",
       "  \"B SM\"               => [\"SDR16C5\", \"PLEKHG7\", \"COCH\", \"DNAJC5B\", \"RP11-829H1…\n",
       "  \"B cells\"            => [\"IGLVI-70\", \"POU2AF1\", \"CPNE5\", \"IGHJ3P\", \"IGLV5-37\"]\n",
       "  \"Basophils LD\"       => [\"OR6N1\", \"OR2I1P\", \"RP11-529A4.7\", \"DSG3\", \"RP11-529…\n",
       "  \"DCs\"                => [\"FLT3\", \"MYCL\", \"SHTN1\"]\n",
       "  \"Granulocytes LD\"    => [\"RP11-405F3.4\", \"REPS2\", \"ADGRG3\", \"RP11-44F14.8\", \"…\n",
       "  \"MAIT\"               => [\"SLC4A10\", \"PRSS35\", \"SCART1\", \"IL23R\", \"ME1\", \"LINC…\n",
       "  \"Monocytes\"          => [\"SLC24A4\", \"SLC37A2\", \"CD300E\", \"SLC9A7P1\", \"SLC7A7\"…\n",
       "  \"Monocytes C\"        => [\"S1PR3\", \"RXFP2\", \"CLEC6A\", \"FXYD6\", \"NRG1\", \"CLEC5A…\n",
       "  \"Monocytes C+I\"      => [\"LRP1\", \"TCN2\", \"MARCO\", \"TMEM176B\", \"CCL3\"]\n",
       "  \"Monocytes I\"        => [\"C1QA\", \"C1QB\", \"C1QC\", \"MERTK\", \"SASH1\", \"CAMK1\", \"…\n",
       "  \"Monocytes NC\"       => [\"AC099552.2\", \"LYPD2\", \"AC104809.4\", \"RP11-221J22.2\"…\n",
       "  \"Monocytes NC+I\"     => [\"CDKN1C\", \"RP11-362F19.1\", \"C2\", \"OLFML2B\", \"MSR1\", …\n",
       "  \"Myeloid\"            => [\"KCNE3\", \"PILRA\", \"TLR4\", \"LILRA2\", \"NLRP3\", \"SPI1\",…\n",
       "  \"Myeloid Phagocytes\" => [\"MTMR11\", \"EPB41L3\", \"CARD9\", \"KLF4\", \"SIGLEC22P\", \"…\n",
       "  \"NK\"                 => [\"ZMAT4\", \"COL13A1\", \"LINGO2\", \"LGALS9B\", \"KIR2DP1\", …\n",
       "  \"Neutrophils LD\"     => [\"LINC02218\", \"PI3\", \"TGM3\", \"RP11-321E2.5\", \"CSNK1A1…\n",
       "  \"Phagocytes\"         => [\"SLC15A3\", \"SEMA4A\"]\n",
       "  ⋮                    => ⋮"
      ]
     },
     "execution_count": 4,
     "metadata": {},
     "output_type": "execute_result"
    }
   ],
   "source": [
    "po_ge_ = Dict(po => [] for po in unique(da[!, \"Cell type\"]))\n",
    "\n",
    "for (ge, po) in eachrow(da)\n",
    "\n",
    "    push!(po_ge_[po], ge)\n",
    "\n",
    "end\n",
    "\n",
    "po_ge_ = sort(po_ge_)"
   ]
  },
  {
   "cell_type": "code",
   "execution_count": 5,
   "id": "937ebb29",
   "metadata": {
    "execution": {
     "iopub.execute_input": "2022-07-07T21:55:55.589000Z",
     "iopub.status.busy": "2022-07-07T21:55:55.589000Z",
     "iopub.status.idle": "2022-07-07T21:55:55.695000Z",
     "shell.execute_reply": "2022-07-07T21:55:55.695000Z"
    }
   },
   "outputs": [
    {
     "name": "stdout",
     "output_type": "stream",
     "text": [
      "1\tAPC\n",
      "4\tB Ex\n",
      "5\tB Ex+SM\n",
      "4\tB Memory\n",
      "19\tB NSM\n",
      "42\tB Naive\n",
      "36\tB Naive+Memory\n",
      "3\tB Naive+NSM\n",
      "21\tB SM\n",
      "5\tB cells\n",
      "227\tBasophils LD\n",
      "3\tDCs\n",
      "16\tGranulocytes LD\n",
      "27\tMAIT\n",
      "26\tMonocytes\n",
      "64\tMonocytes C\n",
      "5\tMonocytes C+I\n",
      "17\tMonocytes I\n",
      "49\tMonocytes NC\n",
      "37\tMonocytes NC+I\n",
      "10\tMyeloid\n",
      "22\tMyeloid Phagocytes\n",
      "56\tNK\n",
      "261\tNeutrophils LD\n",
      "2\tPhagocytes\n",
      "181\tPlasmablasts\n",
      "255\tProgenitors\n",
      "13\tT CD4\n",
      "2\tT CD4 Memory\n",
      "7\tT CD4 Naive\n",
      "1\tT CD8\n",
      "3\tT CD8 EM\n",
      "1\tT CD8 EM+TE\n",
      "11\tT CD8 Naive\n",
      "6\tT CD8 TE\n",
      "1\tT Innate\n",
      "5\tT Memory\n",
      "4\tT Naive\n",
      "102\tT cells\n",
      "1\tT gd\n",
      "4\tT gd Vd2\n",
      "5\tT gd non-Vd2\n",
      "2\tTfh\n",
      "1\tTfh+Th\n",
      "1\tTh1/Th17\n",
      "4\tTh17\n",
      "11\tTh2\n",
      "10\tTregs\n",
      "36\tmDCs\n",
      "156\tpDCs\n"
     ]
    }
   ],
   "source": [
    "OnePiece.dict.write(joinpath(PAO, \"population_genes.json\"), po_ge_)\n",
    "\n",
    "for (po, ge_) in po_ge_\n",
    "\n",
    "    println(\"$(length(ge_))\\t$po\")\n",
    "\n",
    "end"
   ]
  }
 ],
 "metadata": {
  "@webio": {
   "lastCommId": null,
   "lastKernelId": null
  },
  "kernelspec": {
   "display_name": "Julia 1.7.3",
   "language": "julia",
   "name": "julia-1.7"
  },
  "language_info": {
   "file_extension": ".jl",
   "mimetype": "application/julia",
   "name": "julia",
   "version": "1.7.3"
  }
 },
 "nbformat": 4,
 "nbformat_minor": 5
}
