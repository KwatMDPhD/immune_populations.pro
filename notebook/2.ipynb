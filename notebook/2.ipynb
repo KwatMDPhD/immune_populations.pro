{
 "cells": [
  {
   "cell_type": "code",
   "execution_count": null,
   "id": "84d9f51f-1c31-41ae-8233-cd0dce91c1ff",
   "metadata": {},
   "outputs": [],
   "source": [
    "using Revise\n",
    "using BenchmarkTools\n",
    "\n",
    "using IO"
   ]
  },
  {
   "cell_type": "code",
   "execution_count": null,
   "id": "0e8e6c51-d480-4495-8e8d-bee2fb7c3aec",
   "metadata": {},
   "outputs": [],
   "source": [
    "p = \"../data/GSE107011_Processed_data_TPM.txt.gz\""
   ]
  },
  {
   "cell_type": "code",
   "execution_count": null,
   "id": "83fdca4f-0ed1-48bf-bd46-34270e7e96a1",
   "metadata": {},
   "outputs": [],
   "source": [
    "read_dataframe(p)"
   ]
  }
 ],
 "metadata": {
  "kernelspec": {
   "display_name": "Julia 1.6.0",
   "language": "julia",
   "name": "julia-1.6"
  },
  "language_info": {
   "file_extension": ".jl",
   "mimetype": "application/julia",
   "name": "julia",
   "version": "1.6.0"
  }
 },
 "nbformat": 4,
 "nbformat_minor": 5
}
